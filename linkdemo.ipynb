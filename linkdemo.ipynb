{
 "cells": [
  {
   "cell_type": "code",
   "execution_count": 1,
   "metadata": {},
   "outputs": [],
   "source": [
    "from mwviews.api import PageviewsClient\n",
    "import mwapi\n",
    "import wikitools\n",
    "import pandas as pd\n",
    "import time\n",
    "\n",
    "\n",
    "my_agent = 'mwapi testing <p.gildersleve@lse.ac.uk>'\n",
    "# session = mwapi.Session('https://en.wikipedia.org',\n",
    "#                         formatversion=2,\n",
    "#                         user_agent=my_agent)\n",
    "async_session = mwapi.AsyncSession('https://en.wikipedia.org',\n",
    "                    formatversion=2, user_agent=my_agent)\n"
   ]
  },
  {
   "cell_type": "code",
   "execution_count": 40,
   "metadata": {},
   "outputs": [],
   "source": [
    "toparts = pd.read_csv('data/topviews-2024_07_31.csv')\n",
    "artlist = toparts['Page'].unique().tolist() # ~1000 top articles yesterday"
   ]
  },
  {
   "cell_type": "code",
   "execution_count": 138,
   "metadata": {},
   "outputs": [
    {
     "name": "stdout",
     "output_type": "stream",
     "text": [
      "Getting links for 0 to 200\n"
     ]
    },
    {
     "name": "stderr",
     "output_type": "stream",
     "text": [
      "Unclosed client session\n",
      "client_session: <aiohttp.client.ClientSession object at 0x22cc31110>\n",
      "Unclosed connector\n",
      "connections: ['[(<aiohttp.client_proto.ResponseHandler object at 0x21a5a1d30>, 20353.139497756)]']\n",
      "connector: <aiohttp.connector.TCPConnector object at 0x17852e590>\n"
     ]
    },
    {
     "name": "stdout",
     "output_type": "stream",
     "text": [
      "Getting links for 200 to 400\n"
     ]
    },
    {
     "name": "stderr",
     "output_type": "stream",
     "text": [
      "Unclosed client session\n",
      "client_session: <aiohttp.client.ClientSession object at 0x1cf920850>\n",
      "Unclosed connector\n",
      "connections: ['[(<aiohttp.client_proto.ResponseHandler object at 0x1f4e771c0>, 20505.162569126), (<aiohttp.client_proto.ResponseHandler object at 0x1f4e89470>, 20514.987242265)]']\n",
      "connector: <aiohttp.connector.TCPConnector object at 0x1bc097690>\n"
     ]
    },
    {
     "name": "stdout",
     "output_type": "stream",
     "text": [
      "Getting links for 400 to 600\n"
     ]
    },
    {
     "name": "stderr",
     "output_type": "stream",
     "text": [
      "Unclosed client session\n",
      "client_session: <aiohttp.client.ClientSession object at 0x1a1df7690>\n",
      "Unclosed connector\n",
      "connections: ['[(<aiohttp.client_proto.ResponseHandler object at 0x22743a9e0>, 20729.70512042)]']\n",
      "connector: <aiohttp.connector.TCPConnector object at 0x1a1694790>\n"
     ]
    },
    {
     "name": "stdout",
     "output_type": "stream",
     "text": [
      "Getting links for 600 to 800\n"
     ]
    },
    {
     "name": "stderr",
     "output_type": "stream",
     "text": [
      "Unclosed client session\n",
      "client_session: <aiohttp.client.ClientSession object at 0x1d35e7690>\n",
      "Unclosed connector\n",
      "connections: ['[(<aiohttp.client_proto.ResponseHandler object at 0x1f85a70e0>, 20901.315460626)]']\n",
      "connector: <aiohttp.connector.TCPConnector object at 0x1c591c790>\n"
     ]
    },
    {
     "name": "stdout",
     "output_type": "stream",
     "text": [
      "Getting links for 800 to 1000\n"
     ]
    },
    {
     "name": "stderr",
     "output_type": "stream",
     "text": [
      "Unclosed client session\n",
      "client_session: <aiohttp.client.ClientSession object at 0x231daf690>\n",
      "Unclosed connector\n",
      "connections: ['[(<aiohttp.client_proto.ResponseHandler object at 0x1a5eed160>, 20988.926724434), (<aiohttp.client_proto.ResponseHandler object at 0x19608bc40>, 20999.859092153)]']\n",
      "connector: <aiohttp.connector.TCPConnector object at 0x252438f10>\n"
     ]
    }
   ],
   "source": [
    "batchsize = 200\n",
    "net_articles = set(artlist)\n",
    "net_edges = set()\n",
    "n = 0\n",
    "while n < len(artlist):\n",
    "    print(f'Getting links for {n} to {n+batchsize}')\n",
    "    try:\n",
    "        arts = artlist[n:n+batchsize]\n",
    "        res = await wikitools.pipeline_get_links('en.wikipedia', my_agent,\n",
    "                                                titles=arts,\n",
    "                                                gl_args={'mode':['out', 'in'],\n",
    "                                                        'resolve_redirects':False})\n",
    "        res_articles = set([x['title'] for y in res['links']['in'].values() for x in y] +\n",
    "                [x['title'] for y in res['links']['out'].values() for x in y])\n",
    "        res_edges = set([(k, x['title']) for k, v in res['links']['out'].items() for x in v] +\n",
    "                    [(x['title'], k) for k, v in res['links']['in'].items() for x in v])\n",
    "        net_articles.update(res_articles)\n",
    "        net_edges.update(res_edges)\n",
    "        n += batchsize\n",
    "        if batchsize <= 100:\n",
    "            batchsize = batchsize * 2\n",
    "    except ValueError as v: # handle rate error, this doesn't all run automatically, so need to address further issues\n",
    "        print('ValueError', v)\n",
    "        #split arts in half and try again\n",
    "        batchsize = batchsize // 2\n",
    "        time.sleep(10)\n",
    "    except ConnectionError as v: # handle rate error, this doesn't all run automatically, so need to address further issues\n",
    "        print('ValueError', v)\n",
    "        #split arts in half and try again\n",
    "        batchsize = batchsize // 2\n",
    "        time.sleep(10)"
   ]
  },
  {
   "cell_type": "code",
   "execution_count": 139,
   "metadata": {},
   "outputs": [
    {
     "name": "stdout",
     "output_type": "stream",
     "text": [
      "2666267\n",
      "6180844\n"
     ]
    },
    {
     "data": {
      "text/html": [
       "<div>\n",
       "<style scoped>\n",
       "    .dataframe tbody tr th:only-of-type {\n",
       "        vertical-align: middle;\n",
       "    }\n",
       "\n",
       "    .dataframe tbody tr th {\n",
       "        vertical-align: top;\n",
       "    }\n",
       "\n",
       "    .dataframe thead th {\n",
       "        text-align: right;\n",
       "    }\n",
       "</style>\n",
       "<table border=\"1\" class=\"dataframe\">\n",
       "  <thead>\n",
       "    <tr style=\"text-align: right;\">\n",
       "      <th></th>\n",
       "      <th>source</th>\n",
       "      <th>target</th>\n",
       "    </tr>\n",
       "  </thead>\n",
       "  <tbody>\n",
       "    <tr>\n",
       "      <th>0</th>\n",
       "      <td>History of Ohio University</td>\n",
       "      <td>George Washington</td>\n",
       "    </tr>\n",
       "    <tr>\n",
       "      <th>1</th>\n",
       "      <td>Veeru Dada</td>\n",
       "      <td>India</td>\n",
       "    </tr>\n",
       "    <tr>\n",
       "      <th>2</th>\n",
       "      <td>Pedro Pascal</td>\n",
       "      <td>Buffy the Vampire Slayer</td>\n",
       "    </tr>\n",
       "    <tr>\n",
       "      <th>3</th>\n",
       "      <td>Arndtsche Kaffeeaufgußmaschine</td>\n",
       "      <td>English language</td>\n",
       "    </tr>\n",
       "    <tr>\n",
       "      <th>4</th>\n",
       "      <td>Tennis at the 2001 Summer Universiade</td>\n",
       "      <td>Germany</td>\n",
       "    </tr>\n",
       "    <tr>\n",
       "      <th>...</th>\n",
       "      <td>...</td>\n",
       "      <td>...</td>\n",
       "    </tr>\n",
       "    <tr>\n",
       "      <th>6180839</th>\n",
       "      <td>Takashi Amano</td>\n",
       "      <td>Japan</td>\n",
       "    </tr>\n",
       "    <tr>\n",
       "      <th>6180840</th>\n",
       "      <td>Taroko people</td>\n",
       "      <td>Taiwan</td>\n",
       "    </tr>\n",
       "    <tr>\n",
       "      <th>6180841</th>\n",
       "      <td>Clarisse Moh</td>\n",
       "      <td>France</td>\n",
       "    </tr>\n",
       "    <tr>\n",
       "      <th>6180842</th>\n",
       "      <td>Kiki Bertens</td>\n",
       "      <td>Coco Gauff</td>\n",
       "    </tr>\n",
       "    <tr>\n",
       "      <th>6180843</th>\n",
       "      <td>MV Hansa Stavanger</td>\n",
       "      <td>India</td>\n",
       "    </tr>\n",
       "  </tbody>\n",
       "</table>\n",
       "<p>6180844 rows × 2 columns</p>\n",
       "</div>"
      ],
      "text/plain": [
       "                                        source                    target\n",
       "0                   History of Ohio University         George Washington\n",
       "1                                   Veeru Dada                     India\n",
       "2                                 Pedro Pascal  Buffy the Vampire Slayer\n",
       "3               Arndtsche Kaffeeaufgußmaschine          English language\n",
       "4        Tennis at the 2001 Summer Universiade                   Germany\n",
       "...                                        ...                       ...\n",
       "6180839                          Takashi Amano                     Japan\n",
       "6180840                          Taroko people                    Taiwan\n",
       "6180841                           Clarisse Moh                    France\n",
       "6180842                           Kiki Bertens                Coco Gauff\n",
       "6180843                     MV Hansa Stavanger                     India\n",
       "\n",
       "[6180844 rows x 2 columns]"
      ]
     },
     "execution_count": 139,
     "metadata": {},
     "output_type": "execute_result"
    }
   ],
   "source": [
    "print(len(net_articles))\n",
    "print(len(net_edges))\n",
    "edges_series = pd.DataFrame(net_edges, columns=['source', 'target'])\n",
    "edges_series"
   ]
  },
  {
   "cell_type": "code",
   "execution_count": 134,
   "metadata": {},
   "outputs": [],
   "source": [
    "# get ordered list - hoping to make collection of articles more efficient for subsequent API calls\n",
    "# not sure if / how much this will actually help\n",
    "\n",
    "top_indegree = edges_series['target'].value_counts()\n",
    "ordered_artlist = ([x for x in top_indegree.index if x in artlist] +\n",
    "                   [x for x in artlist if x not in top_indegree.index])"
   ]
  },
  {
   "cell_type": "code",
   "execution_count": 141,
   "metadata": {},
   "outputs": [
    {
     "data": {
      "text/plain": [
       "Index(['United States', 'France', 'Germany', 'United Kingdom', 'India',\n",
       "       'World War II', 'Australia', 'Japan', 'Canada', 'Russia',\n",
       "       'New York City', 'China', 'Netherlands', 'Switzerland', 'Iran',\n",
       "       'English language', 'Turkey', 'World War I', 'Soviet Union',\n",
       "       'New Zealand'],\n",
       "      dtype='object', name='target')"
      ]
     },
     "execution_count": 141,
     "metadata": {},
     "output_type": "execute_result"
    }
   ],
   "source": [
    "top_indegree.index[:20]"
   ]
  },
  {
   "cell_type": "code",
   "execution_count": 136,
   "metadata": {},
   "outputs": [
    {
     "name": "stdout",
     "output_type": "stream",
     "text": [
      "Getting links for 0 to 5\n"
     ]
    },
    {
     "name": "stderr",
     "output_type": "stream",
     "text": [
      "Unclosed client session\n",
      "client_session: <aiohttp.client.ClientSession object at 0x1fc55f690>\n",
      "Unclosed client session\n",
      "client_session: <aiohttp.client.ClientSession object at 0x1b627f710>\n",
      "Unclosed connector\n",
      "connections: ['[(<aiohttp.client_proto.ResponseHandler object at 0x1fb1711d0>, 18785.999307419)]']\n",
      "connector: <aiohttp.connector.TCPConnector object at 0x1c8d01fd0>\n"
     ]
    },
    {
     "name": "stdout",
     "output_type": "stream",
     "text": [
      "Getting links for 5 to 15\n"
     ]
    },
    {
     "name": "stderr",
     "output_type": "stream",
     "text": [
      "Unclosed client session\n",
      "client_session: <aiohttp.client.ClientSession object at 0x1da737690>\n",
      "Unclosed connector\n",
      "connections: ['[(<aiohttp.client_proto.ResponseHandler object at 0x21c3b4130>, 18904.191849593), (<aiohttp.client_proto.ResponseHandler object at 0x1ed032c80>, 18905.925557201), (<aiohttp.client_proto.ResponseHandler object at 0x234775ef0>, 18907.692467689), (<aiohttp.client_proto.ResponseHandler object at 0x222aff4d0>, 18913.249918492), (<aiohttp.client_proto.ResponseHandler object at 0x237347d20>, 18913.941970846)]']\n",
      "connector: <aiohttp.connector.TCPConnector object at 0x1fc5fca10>\n"
     ]
    },
    {
     "name": "stdout",
     "output_type": "stream",
     "text": [
      "Getting links for 15 to 35\n"
     ]
    },
    {
     "name": "stderr",
     "output_type": "stream",
     "text": [
      "Unclosed client session\n",
      "client_session: <aiohttp.client.ClientSession object at 0x217ce7690>\n",
      "Unclosed connector\n",
      "connections: ['[(<aiohttp.client_proto.ResponseHandler object at 0x1f96ac520>, 18967.094622328), (<aiohttp.client_proto.ResponseHandler object at 0x21ba1fa10>, 18967.727388582), (<aiohttp.client_proto.ResponseHandler object at 0x21ba1d010>, 18968.40912503), (<aiohttp.client_proto.ResponseHandler object at 0x1ee9d0980>, 18968.760137718), (<aiohttp.client_proto.ResponseHandler object at 0x21141c670>, 18975.538633153), (<aiohttp.client_proto.ResponseHandler object at 0x21b71d2b0>, 18976.520464354), (<aiohttp.client_proto.ResponseHandler object at 0x1f38c7690>, 18977.3283039), (<aiohttp.client_proto.ResponseHandler object at 0x1ef749cc0>, 18979.015981187), (<aiohttp.client_proto.ResponseHandler object at 0x21b71d400>, 18984.384670434), (<aiohttp.client_proto.ResponseHandler object at 0x21e84b230>, 18985.487095531)]']\n",
      "connector: <aiohttp.connector.TCPConnector object at 0x240f68f10>\n"
     ]
    },
    {
     "name": "stdout",
     "output_type": "stream",
     "text": [
      "Getting links for 35 to 75\n"
     ]
    },
    {
     "name": "stderr",
     "output_type": "stream",
     "text": [
      "Unclosed client session\n",
      "client_session: <aiohttp.client.ClientSession object at 0x1dce77690>\n",
      "Unclosed connector\n",
      "connections: ['[(<aiohttp.client_proto.ResponseHandler object at 0x202d87a80>, 19000.487401156), (<aiohttp.client_proto.ResponseHandler object at 0x202d87000>, 19000.672294771), (<aiohttp.client_proto.ResponseHandler object at 0x1f591b460>, 19000.837398376), (<aiohttp.client_proto.ResponseHandler object at 0x202d86b30>, 19000.904273196), (<aiohttp.client_proto.ResponseHandler object at 0x2323604b0>, 19001.048041533), (<aiohttp.client_proto.ResponseHandler object at 0x202d878c0>, 19001.084736121), (<aiohttp.client_proto.ResponseHandler object at 0x232360360>, 19001.27490023), (<aiohttp.client_proto.ResponseHandler object at 0x202d87ee0>, 19001.419569571), (<aiohttp.client_proto.ResponseHandler object at 0x202d86510>, 19001.421851285), (<aiohttp.client_proto.ResponseHandler object at 0x23c5c75b0>, 19001.432050799), (<aiohttp.client_proto.ResponseHandler object at 0x202d85fd0>, 19001.464654603), (<aiohttp.client_proto.ResponseHandler object at 0x202d87310>, 19001.491056368), (<aiohttp.client_proto.ResponseHandler object at 0x202d860b0>, 19001.571040557), (<aiohttp.client_proto.ResponseHandler object at 0x202d870e0>, 19001.577345547), (<aiohttp.client_proto.ResponseHandler object at 0x202d879a0>, 19001.731158167), (<aiohttp.client_proto.ResponseHandler object at 0x2323609f0>, 19001.936375271), (<aiohttp.client_proto.ResponseHandler object at 0x202d87d90>, 19002.026208647), (<aiohttp.client_proto.ResponseHandler object at 0x232360600>, 19002.300343475), (<aiohttp.client_proto.ResponseHandler object at 0x232360b40>, 19002.539043615), (<aiohttp.client_proto.ResponseHandler object at 0x202d875b0>, 19002.612110801), (<aiohttp.client_proto.ResponseHandler object at 0x232360210>, 19002.831422856), (<aiohttp.client_proto.ResponseHandler object at 0x202d87700>, 19003.807816647), (<aiohttp.client_proto.ResponseHandler object at 0x2323607c0>, 19003.856767922), (<aiohttp.client_proto.ResponseHandler object at 0x2323606e0>, 19003.946284155), (<aiohttp.client_proto.ResponseHandler object at 0x202d86f20>, 19004.260212601), (<aiohttp.client_proto.ResponseHandler object at 0x23c5472a0>, 19004.340948234), (<aiohttp.client_proto.ResponseHandler object at 0x1f58ba900>, 19004.751444243), (<aiohttp.client_proto.ResponseHandler object at 0x202d86cf0>, 19004.947827011), (<aiohttp.client_proto.ResponseHandler object at 0x1f5888210>, 19006.341953182), (<aiohttp.client_proto.ResponseHandler object at 0x202d866d0>, 19007.169562309), (<aiohttp.client_proto.ResponseHandler object at 0x202d86c10>, 19007.353814215), (<aiohttp.client_proto.ResponseHandler object at 0x202d86120>, 19009.088488511), (<aiohttp.client_proto.ResponseHandler object at 0x202d867b0>, 19009.293337471), (<aiohttp.client_proto.ResponseHandler object at 0x202d877e0>, 19009.921017612), (<aiohttp.client_proto.ResponseHandler object at 0x202d862e0>, 19011.160987832), (<aiohttp.client_proto.ResponseHandler object at 0x1f38c7690>, 19011.304175843), (<aiohttp.client_proto.ResponseHandler object at 0x202d873f0>, 19011.401536412), (<aiohttp.client_proto.ResponseHandler object at 0x205a30130>, 19011.712312721), (<aiohttp.client_proto.ResponseHandler object at 0x2323600c0>, 19011.739967562), (<aiohttp.client_proto.ResponseHandler object at 0x23c60b770>, 19012.788805473)]']\n",
      "connector: <aiohttp.connector.TCPConnector object at 0x1f2604790>\n"
     ]
    },
    {
     "name": "stdout",
     "output_type": "stream",
     "text": [
      "Getting links for 75 to 155\n"
     ]
    },
    {
     "name": "stderr",
     "output_type": "stream",
     "text": [
      "Unclosed client session\n",
      "client_session: <aiohttp.client.ClientSession object at 0x1e8b37690>\n",
      "Unclosed connector\n",
      "connections: ['[(<aiohttp.client_proto.ResponseHandler object at 0x1e9899080>, 19023.698538496), (<aiohttp.client_proto.ResponseHandler object at 0x205e02d60>, 19023.865051257), (<aiohttp.client_proto.ResponseHandler object at 0x211da7070>, 19023.867018676), (<aiohttp.client_proto.ResponseHandler object at 0x2039275b0>, 19023.8702819), (<aiohttp.client_proto.ResponseHandler object at 0x2184c0f30>, 19023.897733738), (<aiohttp.client_proto.ResponseHandler object at 0x211d6e740>, 19023.940236077), (<aiohttp.client_proto.ResponseHandler object at 0x1f11f27b0>, 19023.956009115), (<aiohttp.client_proto.ResponseHandler object at 0x202d865f0>, 19024.068148835), (<aiohttp.client_proto.ResponseHandler object at 0x1fb81faf0>, 19024.076487736), (<aiohttp.client_proto.ResponseHandler object at 0x202d87150>, 19024.077293379), (<aiohttp.client_proto.ResponseHandler object at 0x202d86190>, 19024.105253221), (<aiohttp.client_proto.ResponseHandler object at 0x2184c1630>, 19024.118395711), (<aiohttp.client_proto.ResponseHandler object at 0x1e991d320>, 19024.149792586), (<aiohttp.client_proto.ResponseHandler object at 0x2184c1710>, 19024.204635293), (<aiohttp.client_proto.ResponseHandler object at 0x2184c1550>, 19024.258289619), (<aiohttp.client_proto.ResponseHandler object at 0x23f8fff50>, 19024.287452692), (<aiohttp.client_proto.ResponseHandler object at 0x2184c12b0>, 19024.293992176), (<aiohttp.client_proto.ResponseHandler object at 0x2104a1630>, 19024.295020458), (<aiohttp.client_proto.ResponseHandler object at 0x23f8ffd20>, 19024.309145494), (<aiohttp.client_proto.ResponseHandler object at 0x1f4bde0b0>, 19024.31253744), (<aiohttp.client_proto.ResponseHandler object at 0x23f902f90>, 19024.313632737), (<aiohttp.client_proto.ResponseHandler object at 0x202d87f50>, 19024.432764586), (<aiohttp.client_proto.ResponseHandler object at 0x1e86d6820>, 19024.531727502), (<aiohttp.client_proto.ResponseHandler object at 0x205e13f50>, 19024.53405826), (<aiohttp.client_proto.ResponseHandler object at 0x205b579a0>, 19024.539266547), (<aiohttp.client_proto.ResponseHandler object at 0x1e8d40c20>, 19024.549698473), (<aiohttp.client_proto.ResponseHandler object at 0x2184c08a0>, 19024.592118499), (<aiohttp.client_proto.ResponseHandler object at 0x23f8ffa10>, 19024.600134009), (<aiohttp.client_proto.ResponseHandler object at 0x211d6f700>, 19024.613111289), (<aiohttp.client_proto.ResponseHandler object at 0x202d86270>, 19024.632190768), (<aiohttp.client_proto.ResponseHandler object at 0x202d87770>, 19024.809021145), (<aiohttp.client_proto.ResponseHandler object at 0x202d87a10>, 19024.816757578), (<aiohttp.client_proto.ResponseHandler object at 0x2184c1010>, 19024.854479029), (<aiohttp.client_proto.ResponseHandler object at 0x2184c0de0>, 19024.902651668), (<aiohttp.client_proto.ResponseHandler object at 0x2184c1470>, 19024.917025349), (<aiohttp.client_proto.ResponseHandler object at 0x202d86f90>, 19024.986622008), (<aiohttp.client_proto.ResponseHandler object at 0x204ed0d00>, 19025.119229592), (<aiohttp.client_proto.ResponseHandler object at 0x202d860b0>, 19025.16759048), (<aiohttp.client_proto.ResponseHandler object at 0x2184c06e0>, 19025.171459484), (<aiohttp.client_proto.ResponseHandler object at 0x204a54280>, 19025.178239596), (<aiohttp.client_proto.ResponseHandler object at 0x2038c2ac0>, 19025.296307338), (<aiohttp.client_proto.ResponseHandler object at 0x1e8d42f20>, 19025.368729461), (<aiohttp.client_proto.ResponseHandler object at 0x202d870e0>, 19025.463520868), (<aiohttp.client_proto.ResponseHandler object at 0x20adfa9e0>, 19025.500828209), (<aiohttp.client_proto.ResponseHandler object at 0x1f5888210>, 19025.601233139), (<aiohttp.client_proto.ResponseHandler object at 0x2184c17f0>, 19025.645768219), (<aiohttp.client_proto.ResponseHandler object at 0x2184c0980>, 19025.671043011), (<aiohttp.client_proto.ResponseHandler object at 0x2184c1d30>, 19025.706613598), (<aiohttp.client_proto.ResponseHandler object at 0x2034cdfd0>, 19025.893983546), (<aiohttp.client_proto.ResponseHandler object at 0x202d86580>, 19025.979428086), (<aiohttp.client_proto.ResponseHandler object at 0x205e01470>, 19025.996499669), (<aiohttp.client_proto.ResponseHandler object at 0x2034cc6e0>, 19026.01861807), (<aiohttp.client_proto.ResponseHandler object at 0x23c60b770>, 19026.082472743), (<aiohttp.client_proto.ResponseHandler object at 0x2184c1390>, 19026.249097284), (<aiohttp.client_proto.ResponseHandler object at 0x212194280>, 19026.25067376), (<aiohttp.client_proto.ResponseHandler object at 0x202d86820>, 19026.608541308), (<aiohttp.client_proto.ResponseHandler object at 0x2184c11d0>, 19026.665463681), (<aiohttp.client_proto.ResponseHandler object at 0x2039252b0>, 19026.82783859), (<aiohttp.client_proto.ResponseHandler object at 0x2184c1ef0>, 19026.956750719), (<aiohttp.client_proto.ResponseHandler object at 0x1f12375b0>, 19027.010873356), (<aiohttp.client_proto.ResponseHandler object at 0x1f11f3c40>, 19027.016185669), (<aiohttp.client_proto.ResponseHandler object at 0x204ab9b00>, 19027.07434325), (<aiohttp.client_proto.ResponseHandler object at 0x2184c1c50>, 19027.109004782), (<aiohttp.client_proto.ResponseHandler object at 0x1f1235c50>, 19027.118417659), (<aiohttp.client_proto.ResponseHandler object at 0x202d87ee0>, 19027.170538155), (<aiohttp.client_proto.ResponseHandler object at 0x1e989b770>, 19027.248723896), (<aiohttp.client_proto.ResponseHandler object at 0x1f8538360>, 19027.279171353), (<aiohttp.client_proto.ResponseHandler object at 0x2184c0b40>, 19027.383612258), (<aiohttp.client_proto.ResponseHandler object at 0x23f901f60>, 19027.425426173), (<aiohttp.client_proto.ResponseHandler object at 0x23f903150>, 19027.450556802), (<aiohttp.client_proto.ResponseHandler object at 0x205bef460>, 19027.497319729), (<aiohttp.client_proto.ResponseHandler object at 0x22d903700>, 19027.573474818), (<aiohttp.client_proto.ResponseHandler object at 0x1f845dc50>, 19027.584185084), (<aiohttp.client_proto.ResponseHandler object at 0x202d86ba0>, 19027.604793394), (<aiohttp.client_proto.ResponseHandler object at 0x2184c0c90>, 19027.704779134), (<aiohttp.client_proto.ResponseHandler object at 0x202d85fd0>, 19027.724323735), (<aiohttp.client_proto.ResponseHandler object at 0x202d87460>, 19027.781831315), (<aiohttp.client_proto.ResponseHandler object at 0x1f845f850>, 19028.106550027), (<aiohttp.client_proto.ResponseHandler object at 0x205e12200>, 19028.120850257), (<aiohttp.client_proto.ResponseHandler object at 0x202d86b30>, 19029.002183513)]']\n",
      "connector: <aiohttp.connector.TCPConnector object at 0x21150ca10>\n"
     ]
    },
    {
     "name": "stdout",
     "output_type": "stream",
     "text": [
      "Getting links for 155 to 315\n"
     ]
    },
    {
     "name": "stderr",
     "output_type": "stream",
     "text": [
      "Unclosed client session\n",
      "client_session: <aiohttp.client.ClientSession object at 0x238d48f10>\n",
      "Unclosed connector\n",
      "connections: ['[(<aiohttp.client_proto.ResponseHandler object at 0x1ee3bbe00>, 19031.407273353), (<aiohttp.client_proto.ResponseHandler object at 0x2026d0670>, 19035.490587385), (<aiohttp.client_proto.ResponseHandler object at 0x191190130>, 19035.490803998), (<aiohttp.client_proto.ResponseHandler object at 0x211d6f700>, 19035.518561547), (<aiohttp.client_proto.ResponseHandler object at 0x1ee3bad60>, 19035.519158738), (<aiohttp.client_proto.ResponseHandler object at 0x2184c1630>, 19035.520117671), (<aiohttp.client_proto.ResponseHandler object at 0x2392abd90>, 19035.521163458), (<aiohttp.client_proto.ResponseHandler object at 0x23932ac80>, 19035.522123264), (<aiohttp.client_proto.ResponseHandler object at 0x20a6ef3f0>, 19035.522182915), (<aiohttp.client_proto.ResponseHandler object at 0x2184c17f0>, 19035.526349827), (<aiohttp.client_proto.ResponseHandler object at 0x2184c09f0>, 19035.527799983), (<aiohttp.client_proto.ResponseHandler object at 0x1ee3b96a0>, 19035.527955535), (<aiohttp.client_proto.ResponseHandler object at 0x202d87380>, 19035.546962735), (<aiohttp.client_proto.ResponseHandler object at 0x2184c0b40>, 19035.548302112), (<aiohttp.client_proto.ResponseHandler object at 0x205e01400>, 19035.549227409), (<aiohttp.client_proto.ResponseHandler object at 0x23932bbd0>, 19035.553950963), (<aiohttp.client_proto.ResponseHandler object at 0x205e126d0>, 19035.581220967), (<aiohttp.client_proto.ResponseHandler object at 0x1ee929320>, 19035.585064716), (<aiohttp.client_proto.ResponseHandler object at 0x1ee3533f0>, 19035.596321787), (<aiohttp.client_proto.ResponseHandler object at 0x191190ad0>, 19035.607237494), (<aiohttp.client_proto.ResponseHandler object at 0x2184c07c0>, 19035.608244137), (<aiohttp.client_proto.ResponseHandler object at 0x23932a270>, 19035.612786026), (<aiohttp.client_proto.ResponseHandler object at 0x191190210>, 19035.614473738), (<aiohttp.client_proto.ResponseHandler object at 0x1ee8bf4d0>, 19035.617687012), (<aiohttp.client_proto.ResponseHandler object at 0x205e12200>, 19035.619162478), (<aiohttp.client_proto.ResponseHandler object at 0x1ee928670>, 19035.6241606), (<aiohttp.client_proto.ResponseHandler object at 0x23f8ffee0>, 19035.62451356), (<aiohttp.client_proto.ResponseHandler object at 0x191190750>, 19035.630096472), (<aiohttp.client_proto.ResponseHandler object at 0x2184c1780>, 19035.632844704), (<aiohttp.client_proto.ResponseHandler object at 0x23eaa9b00>, 19035.645782695), (<aiohttp.client_proto.ResponseHandler object at 0x2392ab4d0>, 19035.65215798), (<aiohttp.client_proto.ResponseHandler object at 0x191190f30>, 19035.662974558), (<aiohttp.client_proto.ResponseHandler object at 0x191190590>, 19035.663222802), (<aiohttp.client_proto.ResponseHandler object at 0x191190bb0>, 19035.669971566), (<aiohttp.client_proto.ResponseHandler object at 0x1f29dbe00>, 19035.674118629), (<aiohttp.client_proto.ResponseHandler object at 0x202d87000>, 19035.674681354), (<aiohttp.client_proto.ResponseHandler object at 0x1ee3508a0>, 19035.678655222), (<aiohttp.client_proto.ResponseHandler object at 0x23932baf0>, 19035.690274242), (<aiohttp.client_proto.ResponseHandler object at 0x23932b380>, 19035.693688815), (<aiohttp.client_proto.ResponseHandler object at 0x23eaf1400>, 19035.708742391), (<aiohttp.client_proto.ResponseHandler object at 0x1ee3b9f60>, 19035.716383948), (<aiohttp.client_proto.ResponseHandler object at 0x1ee351780>, 19035.718580908), (<aiohttp.client_proto.ResponseHandler object at 0x191191080>, 19035.741637071), (<aiohttp.client_proto.ResponseHandler object at 0x23932b460>, 19035.754366031), (<aiohttp.client_proto.ResponseHandler object at 0x23932be00>, 19035.762559599), (<aiohttp.client_proto.ResponseHandler object at 0x23db415c0>, 19035.763734714), (<aiohttp.client_proto.ResponseHandler object at 0x1911917f0>, 19035.771020402), (<aiohttp.client_proto.ResponseHandler object at 0x2184c1cc0>, 19035.779989068), (<aiohttp.client_proto.ResponseHandler object at 0x205e01470>, 19035.786052421), (<aiohttp.client_proto.ResponseHandler object at 0x2184c1470>, 19035.788915749), (<aiohttp.client_proto.ResponseHandler object at 0x191191710>, 19035.799105329), (<aiohttp.client_proto.ResponseHandler object at 0x2392abcb0>, 19035.801408684), (<aiohttp.client_proto.ResponseHandler object at 0x2184c12b0>, 19035.802600457), (<aiohttp.client_proto.ResponseHandler object at 0x1911904b0>, 19035.809053824), (<aiohttp.client_proto.ResponseHandler object at 0x2162a50f0>, 19035.835237054), (<aiohttp.client_proto.ResponseHandler object at 0x1f8e1ecf0>, 19035.845621271), (<aiohttp.client_proto.ResponseHandler object at 0x2184c1ef0>, 19035.855412399), (<aiohttp.client_proto.ResponseHandler object at 0x1e9899080>, 19035.879404472), (<aiohttp.client_proto.ResponseHandler object at 0x211d6e040>, 19035.879549987), (<aiohttp.client_proto.ResponseHandler object at 0x22d903700>, 19035.895691506), (<aiohttp.client_proto.ResponseHandler object at 0x1f8e1e820>, 19035.910915173), (<aiohttp.client_proto.ResponseHandler object at 0x2184c0de0>, 19035.926177233), (<aiohttp.client_proto.ResponseHandler object at 0x23932bcb0>, 19035.963373235), (<aiohttp.client_proto.ResponseHandler object at 0x2038c0c90>, 19035.965046376), (<aiohttp.client_proto.ResponseHandler object at 0x23eb09010>, 19035.97048199), (<aiohttp.client_proto.ResponseHandler object at 0x23eaf2120>, 19035.9943372), (<aiohttp.client_proto.ResponseHandler object at 0x2184c1da0>, 19036.001857609), (<aiohttp.client_proto.ResponseHandler object at 0x211da7070>, 19036.015829868), (<aiohttp.client_proto.ResponseHandler object at 0x1ee353d20>, 19036.031811978), (<aiohttp.client_proto.ResponseHandler object at 0x191190c90>, 19036.041494499), (<aiohttp.client_proto.ResponseHandler object at 0x239329a20>, 19036.050652226), (<aiohttp.client_proto.ResponseHandler object at 0x23eb09080>, 19036.054437525), (<aiohttp.client_proto.ResponseHandler object at 0x2184c0f30>, 19036.078336555), (<aiohttp.client_proto.ResponseHandler object at 0x1f8e1c830>, 19036.108875002), (<aiohttp.client_proto.ResponseHandler object at 0x191190670>, 19036.12709889), (<aiohttp.client_proto.ResponseHandler object at 0x2184c1080>, 19036.1285928), (<aiohttp.client_proto.ResponseHandler object at 0x191190050>, 19036.129770374), (<aiohttp.client_proto.ResponseHandler object at 0x2392a8a60>, 19036.13934801), (<aiohttp.client_proto.ResponseHandler object at 0x23932b540>, 19036.149614387), (<aiohttp.client_proto.ResponseHandler object at 0x23eae2e40>, 19036.152561289), (<aiohttp.client_proto.ResponseHandler object at 0x2184c0910>, 19036.161113743), (<aiohttp.client_proto.ResponseHandler object at 0x1911909f0>, 19036.162345188), (<aiohttp.client_proto.ResponseHandler object at 0x1e88c8050>, 19036.1696868), (<aiohttp.client_proto.ResponseHandler object at 0x191191240>, 19036.171200309), (<aiohttp.client_proto.ResponseHandler object at 0x202d87e00>, 19036.179391771), (<aiohttp.client_proto.ResponseHandler object at 0x191191160>, 19036.197793312), (<aiohttp.client_proto.ResponseHandler object at 0x1e991d320>, 19036.198497445), (<aiohttp.client_proto.ResponseHandler object at 0x2038c2ac0>, 19036.202560266), (<aiohttp.client_proto.ResponseHandler object at 0x1e9899e80>, 19036.226562417), (<aiohttp.client_proto.ResponseHandler object at 0x23932b700>, 19036.227856111), (<aiohttp.client_proto.ResponseHandler object at 0x2184c0d00>, 19036.303483146), (<aiohttp.client_proto.ResponseHandler object at 0x1fd7b18d0>, 19036.322551691), (<aiohttp.client_proto.ResponseHandler object at 0x202d87af0>, 19036.323753867), (<aiohttp.client_proto.ResponseHandler object at 0x202d86d60>, 19036.352988), (<aiohttp.client_proto.ResponseHandler object at 0x2184c11d0>, 19036.358534725), (<aiohttp.client_proto.ResponseHandler object at 0x23f8ffd20>, 19036.400027279), (<aiohttp.client_proto.ResponseHandler object at 0x191191400>, 19036.439436668), (<aiohttp.client_proto.ResponseHandler object at 0x23932b8c0>, 19036.448695552), (<aiohttp.client_proto.ResponseHandler object at 0x191191320>, 19036.478762748), (<aiohttp.client_proto.ResponseHandler object at 0x2184c15c0>, 19036.507032625), (<aiohttp.client_proto.ResponseHandler object at 0x2184c1390>, 19036.593352729)]']\n",
      "connector: <aiohttp.connector.TCPConnector object at 0x202722910>\n"
     ]
    },
    {
     "name": "stdout",
     "output_type": "stream",
     "text": [
      "Getting links for 315 to 635\n",
      "ValueError Could not decode as JSON:\n",
      "<!DOCTYPE html>\n",
      "<html lang=\"en\">\n",
      "<meta charset=\"utf-8\">\n",
      "<title>Wikimedia Error</title>\n",
      "<style>\n",
      "* { margin: 0; padding: 0; }\n",
      "body { background: #fff; font: 15px/1.6 sans-serif; color: #333; }\n",
      ".content { margin: 7% auto 0; padding: 2em 1em 1em; max-width: 640px; }\n",
      ".footer { clear: both; margin-top: 14%; border-top: 1px solid #e5e5e5; background: #f9f\n",
      "Getting links for 315 to 475\n"
     ]
    },
    {
     "name": "stderr",
     "output_type": "stream",
     "text": [
      "Unclosed client session\n",
      "client_session: <aiohttp.client.ClientSession object at 0x2385cca10>\n",
      "Unclosed connector\n",
      "connections: ['[(<aiohttp.client_proto.ResponseHandler object at 0x1ef963ee0>, 19049.040322109), (<aiohttp.client_proto.ResponseHandler object at 0x1ef961b70>, 19049.040743144), (<aiohttp.client_proto.ResponseHandler object at 0x1ef96eba0>, 19049.057519335), (<aiohttp.client_proto.ResponseHandler object at 0x23398b850>, 19049.05806734), (<aiohttp.client_proto.ResponseHandler object at 0x231305cc0>, 19049.070568246), (<aiohttp.client_proto.ResponseHandler object at 0x21b89a430>, 19049.070855034), (<aiohttp.client_proto.ResponseHandler object at 0x1a27f44b0>, 19049.07118944), (<aiohttp.client_proto.ResponseHandler object at 0x239170b40>, 19049.075965595), (<aiohttp.client_proto.ResponseHandler object at 0x20a6ef3f0>, 19049.076201209), (<aiohttp.client_proto.ResponseHandler object at 0x2312d8280>, 19049.076426972), (<aiohttp.client_proto.ResponseHandler object at 0x2339b56a0>, 19049.07703084), (<aiohttp.client_proto.ResponseHandler object at 0x1f3610a60>, 19049.077168325), (<aiohttp.client_proto.ResponseHandler object at 0x1a27f5b00>, 19049.077401327), (<aiohttp.client_proto.ResponseHandler object at 0x1a27f6040>, 19049.078416563), (<aiohttp.client_proto.ResponseHandler object at 0x1ef96f9a0>, 19049.078686822), (<aiohttp.client_proto.ResponseHandler object at 0x1f4f749f0>, 19049.078881409), (<aiohttp.client_proto.ResponseHandler object at 0x2339896a0>, 19049.087790651), (<aiohttp.client_proto.ResponseHandler object at 0x1f500fd20>, 19049.088100832), (<aiohttp.client_proto.ResponseHandler object at 0x1a27f49f0>, 19049.088867156), (<aiohttp.client_proto.ResponseHandler object at 0x221742e40>, 19049.093327987), (<aiohttp.client_proto.ResponseHandler object at 0x1ef96eb30>, 19049.094051399), (<aiohttp.client_proto.ResponseHandler object at 0x1ef96fcb0>, 19049.096150698), (<aiohttp.client_proto.ResponseHandler object at 0x1f4f766d0>, 19049.097623538), (<aiohttp.client_proto.ResponseHandler object at 0x233988830>, 19049.105214678), (<aiohttp.client_proto.ResponseHandler object at 0x239227150>, 19049.108077816), (<aiohttp.client_proto.ResponseHandler object at 0x1ef96edd0>, 19049.109364433), (<aiohttp.client_proto.ResponseHandler object at 0x1a27f5cc0>, 19049.110018266), (<aiohttp.client_proto.ResponseHandler object at 0x1ef96f000>, 19049.121203938), (<aiohttp.client_proto.ResponseHandler object at 0x1a27f5470>, 19049.124125461), (<aiohttp.client_proto.ResponseHandler object at 0x1ef96f850>, 19049.124660786), (<aiohttp.client_proto.ResponseHandler object at 0x1f8679630>, 19049.125878793), (<aiohttp.client_proto.ResponseHandler object at 0x1f867b0e0>, 19049.128097572), (<aiohttp.client_proto.ResponseHandler object at 0x230c16dd0>, 19049.13113253), (<aiohttp.client_proto.ResponseHandler object at 0x231307310>, 19049.134885678), (<aiohttp.client_proto.ResponseHandler object at 0x1ef96f930>, 19049.145770143), (<aiohttp.client_proto.ResponseHandler object at 0x1f86b6270>, 19049.158158588), (<aiohttp.client_proto.ResponseHandler object at 0x23efba660>, 19049.15893149), (<aiohttp.client_proto.ResponseHandler object at 0x1ef96f310>, 19049.159386291), (<aiohttp.client_proto.ResponseHandler object at 0x2339883d0>, 19049.159602615), (<aiohttp.client_proto.ResponseHandler object at 0x1a27f6200>, 19049.177783589), (<aiohttp.client_proto.ResponseHandler object at 0x1f8736dd0>, 19049.178093139), (<aiohttp.client_proto.ResponseHandler object at 0x1ef96f4d0>, 19049.17908825), (<aiohttp.client_proto.ResponseHandler object at 0x1ef96f700>, 19049.180024178), (<aiohttp.client_proto.ResponseHandler object at 0x1ef96fee0>, 19049.180652841), (<aiohttp.client_proto.ResponseHandler object at 0x1a27f5a20>, 19049.180958918), (<aiohttp.client_proto.ResponseHandler object at 0x1f36109f0>, 19049.181518669), (<aiohttp.client_proto.ResponseHandler object at 0x1f4f74980>, 19049.181973249), (<aiohttp.client_proto.ResponseHandler object at 0x1ef96c9f0>, 19049.182707669), (<aiohttp.client_proto.ResponseHandler object at 0x221743e70>, 19049.183596683), (<aiohttp.client_proto.ResponseHandler object at 0x1ef96f1c0>, 19049.184248941), (<aiohttp.client_proto.ResponseHandler object at 0x1a27f5630>, 19049.188414901), (<aiohttp.client_proto.ResponseHandler object at 0x1ef96f3f0>, 19049.189277253), (<aiohttp.client_proto.ResponseHandler object at 0x1ef96ec10>, 19049.189783347), (<aiohttp.client_proto.ResponseHandler object at 0x1ef963c40>, 19049.190224331), (<aiohttp.client_proto.ResponseHandler object at 0x1a27f4b40>, 19049.191102073), (<aiohttp.client_proto.ResponseHandler object at 0x1ef96fa80>, 19049.192023936), (<aiohttp.client_proto.ResponseHandler object at 0x1a27f5be0>, 19049.194582761), (<aiohttp.client_proto.ResponseHandler object at 0x21b8ae890>, 19049.194964605), (<aiohttp.client_proto.ResponseHandler object at 0x1f3612740>, 19049.196234658), (<aiohttp.client_proto.ResponseHandler object at 0x2312d9080>, 19049.19734073), (<aiohttp.client_proto.ResponseHandler object at 0x1a27f4fa0>, 19049.197869966), (<aiohttp.client_proto.ResponseHandler object at 0x1ef96ea50>, 19049.198959383), (<aiohttp.client_proto.ResponseHandler object at 0x1a27f5860>, 19049.199558563), (<aiohttp.client_proto.ResponseHandler object at 0x1a27f4600>, 19049.208944091), (<aiohttp.client_proto.ResponseHandler object at 0x2391c1d30>, 19049.214689616), (<aiohttp.client_proto.ResponseHandler object at 0x1a27f6120>, 19049.220283044), (<aiohttp.client_proto.ResponseHandler object at 0x239170590>, 19049.220814995), (<aiohttp.client_proto.ResponseHandler object at 0x1ef96ff50>, 19049.221089812), (<aiohttp.client_proto.ResponseHandler object at 0x1a27f5390>, 19049.221710055), (<aiohttp.client_proto.ResponseHandler object at 0x1ef96f7e0>, 19049.222460496), (<aiohttp.client_proto.ResponseHandler object at 0x2339b40c0>, 19049.225290598), (<aiohttp.client_proto.ResponseHandler object at 0x2339b50f0>, 19049.232239111), (<aiohttp.client_proto.ResponseHandler object at 0x1a27f5780>, 19049.239289525), (<aiohttp.client_proto.ResponseHandler object at 0x21b8ac910>, 19049.257535686), (<aiohttp.client_proto.ResponseHandler object at 0x1a27f46e0>, 19049.25923237), (<aiohttp.client_proto.ResponseHandler object at 0x1ef96f070>, 19049.27237835), (<aiohttp.client_proto.ResponseHandler object at 0x1f4f758d0>, 19049.289203102), (<aiohttp.client_proto.ResponseHandler object at 0x2391c23c0>, 19049.290466593), (<aiohttp.client_proto.ResponseHandler object at 0x1a27f5080>, 19049.291768174), (<aiohttp.client_proto.ResponseHandler object at 0x21b898e50>, 19049.294846568), (<aiohttp.client_proto.ResponseHandler object at 0x1f8da3230>, 19049.29933572), (<aiohttp.client_proto.ResponseHandler object at 0x24058a0b0>, 19049.313124187), (<aiohttp.client_proto.ResponseHandler object at 0x1ef96f2a0>, 19049.343294401), (<aiohttp.client_proto.ResponseHandler object at 0x1ef961b00>, 19049.380794872), (<aiohttp.client_proto.ResponseHandler object at 0x1f36123c0>, 19049.402965142), (<aiohttp.client_proto.ResponseHandler object at 0x2391704b0>, 19049.42973159), (<aiohttp.client_proto.ResponseHandler object at 0x1ef96eeb0>, 19049.429871746), (<aiohttp.client_proto.ResponseHandler object at 0x1ef96e970>, 19049.434387924), (<aiohttp.client_proto.ResponseHandler object at 0x1f3574440>, 19049.437636521), (<aiohttp.client_proto.ResponseHandler object at 0x1f35744b0>, 19049.456639685), (<aiohttp.client_proto.ResponseHandler object at 0x2313071c0>, 19049.461275832), (<aiohttp.client_proto.ResponseHandler object at 0x1a27f5160>, 19049.471843065), (<aiohttp.client_proto.ResponseHandler object at 0x239225b70>, 19049.473262321), (<aiohttp.client_proto.ResponseHandler object at 0x1ef96fc40>, 19049.518673445), (<aiohttp.client_proto.ResponseHandler object at 0x1f86b5320>, 19049.602616973), (<aiohttp.client_proto.ResponseHandler object at 0x21b89b380>, 19049.631501032), (<aiohttp.client_proto.ResponseHandler object at 0x1a27f47c0>, 19049.672343207), (<aiohttp.client_proto.ResponseHandler object at 0x1ef96fb60>, 19051.261922284), (<aiohttp.client_proto.ResponseHandler object at 0x1a27f5f60>, 19051.286647984), (<aiohttp.client_proto.ResponseHandler object at 0x1f165d6a0>, 19051.753506475)]']\n",
      "connector: <aiohttp.connector.TCPConnector object at 0x1d1112910>\n",
      "Unclosed client session\n",
      "client_session: <aiohttp.client.ClientSession object at 0x23eb10090>\n",
      "Unclosed connector\n",
      "connections: ['[(<aiohttp.client_proto.ResponseHandler object at 0x1f012d390>, 19056.292971032), (<aiohttp.client_proto.ResponseHandler object at 0x1e9bbb9a0>, 19056.294762879), (<aiohttp.client_proto.ResponseHandler object at 0x1f012e190>, 19056.296298859), (<aiohttp.client_proto.ResponseHandler object at 0x1f012d9b0>, 19056.296547545), (<aiohttp.client_proto.ResponseHandler object at 0x1f26c5b00>, 19056.304058191), (<aiohttp.client_proto.ResponseHandler object at 0x1f012ef90>, 19056.304764578), (<aiohttp.client_proto.ResponseHandler object at 0x1f004f540>, 19056.307031421), (<aiohttp.client_proto.ResponseHandler object at 0x1f012e350>, 19056.307437844), (<aiohttp.client_proto.ResponseHandler object at 0x1f004fa80>, 19056.308652379), (<aiohttp.client_proto.ResponseHandler object at 0x1f004ea50>, 19056.309270101), (<aiohttp.client_proto.ResponseHandler object at 0x1f010ba10>, 19056.30961068), (<aiohttp.client_proto.ResponseHandler object at 0x1f26c43d0>, 19056.310294385), (<aiohttp.client_proto.ResponseHandler object at 0x1f004d860>, 19056.310575442), (<aiohttp.client_proto.ResponseHandler object at 0x1f012f070>, 19056.311696042), (<aiohttp.client_proto.ResponseHandler object at 0x1f004f9a0>, 19056.313355912), (<aiohttp.client_proto.ResponseHandler object at 0x216ea6430>, 19056.320149918), (<aiohttp.client_proto.ResponseHandler object at 0x1f012de80>, 19056.320240354), (<aiohttp.client_proto.ResponseHandler object at 0x1f26c6430>, 19056.322690415), (<aiohttp.client_proto.ResponseHandler object at 0x1f012e5f0>, 19056.323464573), (<aiohttp.client_proto.ResponseHandler object at 0x1f012f230>, 19056.326080456), (<aiohttp.client_proto.ResponseHandler object at 0x1f012ec10>, 19056.326586995), (<aiohttp.client_proto.ResponseHandler object at 0x1f004f2a0>, 19056.327543843), (<aiohttp.client_proto.ResponseHandler object at 0x1f265b460>, 19056.33326203), (<aiohttp.client_proto.ResponseHandler object at 0x1f012f310>, 19056.33383184), (<aiohttp.client_proto.ResponseHandler object at 0x1f012dda0>, 19056.335467415), (<aiohttp.client_proto.ResponseHandler object at 0x20dc22200>, 19056.335840727), (<aiohttp.client_proto.ResponseHandler object at 0x1f265ac80>, 19056.343330734), (<aiohttp.client_proto.ResponseHandler object at 0x1f26c44b0>, 19056.349550763), (<aiohttp.client_proto.ResponseHandler object at 0x1f012e270>, 19056.352351156), (<aiohttp.client_proto.ResponseHandler object at 0x1f004e660>, 19056.356193541), (<aiohttp.client_proto.ResponseHandler object at 0x1f012f8c0>, 19056.359448523), (<aiohttp.client_proto.ResponseHandler object at 0x1f26c6350>, 19056.362655233), (<aiohttp.client_proto.ResponseHandler object at 0x1f26c5630>, 19056.364235811), (<aiohttp.client_proto.ResponseHandler object at 0x1f265aba0>, 19056.372226394), (<aiohttp.client_proto.ResponseHandler object at 0x1f265b540>, 19056.375597378), (<aiohttp.client_proto.ResponseHandler object at 0x1f012d0f0>, 19056.377778682), (<aiohttp.client_proto.ResponseHandler object at 0x1f012f150>, 19056.37814637), (<aiohttp.client_proto.ResponseHandler object at 0x1f26c6270>, 19056.378540949), (<aiohttp.client_proto.ResponseHandler object at 0x1f004e740>, 19056.379602772), (<aiohttp.client_proto.ResponseHandler object at 0x1f012e6d0>, 19056.388360672), (<aiohttp.client_proto.ResponseHandler object at 0x1f265b2a0>, 19056.388897699), (<aiohttp.client_proto.ResponseHandler object at 0x1f004e820>, 19056.396312493), (<aiohttp.client_proto.ResponseHandler object at 0x1f012da90>, 19056.396823446), (<aiohttp.client_proto.ResponseHandler object at 0x1f012fa80>, 19056.398689813), (<aiohttp.client_proto.ResponseHandler object at 0x1911901a0>, 19056.399080451), (<aiohttp.client_proto.ResponseHandler object at 0x1f004d5c0>, 19056.400817628), (<aiohttp.client_proto.ResponseHandler object at 0x1f004d400>, 19056.402661087), (<aiohttp.client_proto.ResponseHandler object at 0x1f265b7e0>, 19056.407936333), (<aiohttp.client_proto.ResponseHandler object at 0x1f004dfd0>, 19056.408922354), (<aiohttp.client_proto.ResponseHandler object at 0x1f004fb60>, 19056.409349781), (<aiohttp.client_proto.ResponseHandler object at 0x1f004d470>, 19056.409424897), (<aiohttp.client_proto.ResponseHandler object at 0x1f26c5a20>, 19056.410091786), (<aiohttp.client_proto.ResponseHandler object at 0x1f26c5940>, 19056.413191479), (<aiohttp.client_proto.ResponseHandler object at 0x1f012d470>, 19056.416446509), (<aiohttp.client_proto.ResponseHandler object at 0x1f265aac0>, 19056.416927165), (<aiohttp.client_proto.ResponseHandler object at 0x1f265a9e0>, 19056.417615014), (<aiohttp.client_proto.ResponseHandler object at 0x1f265b380>, 19056.421971478), (<aiohttp.client_proto.ResponseHandler object at 0x1f265a820>, 19056.423199779), (<aiohttp.client_proto.ResponseHandler object at 0x1f265b9a0>, 19056.423898983), (<aiohttp.client_proto.ResponseHandler object at 0x1f012d5c0>, 19056.427506434), (<aiohttp.client_proto.ResponseHandler object at 0x1f012e0b0>, 19056.4277914), (<aiohttp.client_proto.ResponseHandler object at 0x1f004e580>, 19056.432537621), (<aiohttp.client_proto.ResponseHandler object at 0x1f012f9a0>, 19056.432998215), (<aiohttp.client_proto.ResponseHandler object at 0x1f004dcc0>, 19056.439565248), (<aiohttp.client_proto.ResponseHandler object at 0x1f004e3c0>, 19056.440168217), (<aiohttp.client_proto.ResponseHandler object at 0x1f26c5be0>, 19056.441178176), (<aiohttp.client_proto.ResponseHandler object at 0x1f012e510>, 19056.442684455), (<aiohttp.client_proto.ResponseHandler object at 0x1f012dcc0>, 19056.443165736), (<aiohttp.client_proto.ResponseHandler object at 0x1f004d940>, 19056.443767377), (<aiohttp.client_proto.ResponseHandler object at 0x1f265b8c0>, 19056.444415792), (<aiohttp.client_proto.ResponseHandler object at 0x1f012edd0>, 19056.455986565), (<aiohttp.client_proto.ResponseHandler object at 0x20dc222e0>, 19056.458648518), (<aiohttp.client_proto.ResponseHandler object at 0x1f004f1c0>, 19056.461119962), (<aiohttp.client_proto.ResponseHandler object at 0x1f012e430>, 19056.462261132), (<aiohttp.client_proto.ResponseHandler object at 0x1911917f0>, 19056.467833135), (<aiohttp.client_proto.ResponseHandler object at 0x1f004e4a0>, 19056.468799888), (<aiohttp.client_proto.ResponseHandler object at 0x191191400>, 19056.469599023), (<aiohttp.client_proto.ResponseHandler object at 0x1f012f7e0>, 19056.469685487), (<aiohttp.client_proto.ResponseHandler object at 0x191190750>, 19056.475799144), (<aiohttp.client_proto.ResponseHandler object at 0x1f26c6a50>, 19056.48249857), (<aiohttp.client_proto.ResponseHandler object at 0x1f004da20>, 19056.483211617), (<aiohttp.client_proto.ResponseHandler object at 0x1f26c5780>, 19056.483291104), (<aiohttp.client_proto.ResponseHandler object at 0x1f012d6a0>, 19056.486502488), (<aiohttp.client_proto.ResponseHandler object at 0x1f012e7b0>, 19056.490788433), (<aiohttp.client_proto.ResponseHandler object at 0x1f012eeb0>, 19056.491290893), (<aiohttp.client_proto.ResponseHandler object at 0x191191320>, 19056.509444101), (<aiohttp.client_proto.ResponseHandler object at 0x1f004d710>, 19056.511456549), (<aiohttp.client_proto.ResponseHandler object at 0x1f004f700>, 19056.51199365), (<aiohttp.client_proto.ResponseHandler object at 0x1f265b700>, 19056.521255102), (<aiohttp.client_proto.ResponseHandler object at 0x1f012ecf0>, 19056.521864861), (<aiohttp.client_proto.ResponseHandler object at 0x191190590>, 19056.521905905), (<aiohttp.client_proto.ResponseHandler object at 0x1f26c4fa0>, 19056.523437389), (<aiohttp.client_proto.ResponseHandler object at 0x1f265b620>, 19056.544328924), (<aiohttp.client_proto.ResponseHandler object at 0x1f26c4980>, 19056.549877), (<aiohttp.client_proto.ResponseHandler object at 0x1f012d2b0>, 19056.553320087), (<aiohttp.client_proto.ResponseHandler object at 0x1f009f000>, 19056.554676525), (<aiohttp.client_proto.ResponseHandler object at 0x1911909f0>, 19056.576072791), (<aiohttp.client_proto.ResponseHandler object at 0x1f004f620>, 19056.583973118), (<aiohttp.client_proto.ResponseHandler object at 0x1f004e970>, 19056.77713293), (<aiohttp.client_proto.ResponseHandler object at 0x216ea63c0>, 19056.928265625)]']\n",
      "connector: <aiohttp.connector.TCPConnector object at 0x1c40ea910>\n"
     ]
    },
    {
     "name": "stdout",
     "output_type": "stream",
     "text": [
      "Getting links for 475 to 795\n"
     ]
    },
    {
     "name": "stderr",
     "output_type": "stream",
     "text": [
      "Unclosed client session\n",
      "client_session: <aiohttp.client.ClientSession object at 0x224372910>\n",
      "Unclosed connector\n",
      "connections: ['[(<aiohttp.client_proto.ResponseHandler object at 0x1ebf789f0>, 19063.65162414), (<aiohttp.client_proto.ResponseHandler object at 0x1ebf7b230>, 19063.652255531), (<aiohttp.client_proto.ResponseHandler object at 0x2144a69e0>, 19063.652392848), (<aiohttp.client_proto.ResponseHandler object at 0x2144a5470>, 19063.653117559), (<aiohttp.client_proto.ResponseHandler object at 0x22852f310>, 19063.653235568), (<aiohttp.client_proto.ResponseHandler object at 0x226845ef0>, 19063.654262936), (<aiohttp.client_proto.ResponseHandler object at 0x2144a59b0>, 19063.659620733), (<aiohttp.client_proto.ResponseHandler object at 0x2144a5fd0>, 19063.662982257), (<aiohttp.client_proto.ResponseHandler object at 0x2144a6190>, 19063.670254458), (<aiohttp.client_proto.ResponseHandler object at 0x2268477e0>, 19063.674772513), (<aiohttp.client_proto.ResponseHandler object at 0x23c8ef620>, 19063.675135386), (<aiohttp.client_proto.ResponseHandler object at 0x223b475b0>, 19063.67572494), (<aiohttp.client_proto.ResponseHandler object at 0x22852e890>, 19063.675834216), (<aiohttp.client_proto.ResponseHandler object at 0x2144a5ef0>, 19063.676689285), (<aiohttp.client_proto.ResponseHandler object at 0x226847d20>, 19063.677224372), (<aiohttp.client_proto.ResponseHandler object at 0x1f26c4440>, 19063.677320461), (<aiohttp.client_proto.ResponseHandler object at 0x226847e00>, 19063.677853858), (<aiohttp.client_proto.ResponseHandler object at 0x2144a5080>, 19063.688376099), (<aiohttp.client_proto.ResponseHandler object at 0x2312d8670>, 19063.692831623), (<aiohttp.client_proto.ResponseHandler object at 0x2144a5e10>, 19063.699459916), (<aiohttp.client_proto.ResponseHandler object at 0x2268472a0>, 19063.702437372), (<aiohttp.client_proto.ResponseHandler object at 0x226846970>, 19063.704675031), (<aiohttp.client_proto.ResponseHandler object at 0x21fe75f60>, 19063.705224053), (<aiohttp.client_proto.ResponseHandler object at 0x226844130>, 19063.705319445), (<aiohttp.client_proto.ResponseHandler object at 0x1f26c6120>, 19063.707960957), (<aiohttp.client_proto.ResponseHandler object at 0x2144a6350>, 19063.708278316), (<aiohttp.client_proto.ResponseHandler object at 0x2144a7230>, 19063.711607569), (<aiohttp.client_proto.ResponseHandler object at 0x2144a4210>, 19063.712704348), (<aiohttp.client_proto.ResponseHandler object at 0x2144a6820>, 19063.720202713), (<aiohttp.client_proto.ResponseHandler object at 0x21314d9b0>, 19063.72054788), (<aiohttp.client_proto.ResponseHandler object at 0x226847e70>, 19063.721065917), (<aiohttp.client_proto.ResponseHandler object at 0x23c5e9940>, 19063.723115021), (<aiohttp.client_proto.ResponseHandler object at 0x230c14bb0>, 19063.727171887), (<aiohttp.client_proto.ResponseHandler object at 0x2144a44b0>, 19063.73303892), (<aiohttp.client_proto.ResponseHandler object at 0x226844bb0>, 19063.734522355), (<aiohttp.client_proto.ResponseHandler object at 0x2144a6ac0>, 19063.735580276), (<aiohttp.client_proto.ResponseHandler object at 0x2144a55c0>, 19063.742585458), (<aiohttp.client_proto.ResponseHandler object at 0x2268463c0>, 19063.745516202), (<aiohttp.client_proto.ResponseHandler object at 0x226844ad0>, 19063.75317002), (<aiohttp.client_proto.ResponseHandler object at 0x1f009f000>, 19063.760107966), (<aiohttp.client_proto.ResponseHandler object at 0x2144a42f0>, 19063.76283637), (<aiohttp.client_proto.ResponseHandler object at 0x2144a57f0>, 19063.765870295), (<aiohttp.client_proto.ResponseHandler object at 0x2144a5b00>, 19063.766288404), (<aiohttp.client_proto.ResponseHandler object at 0x21314c130>, 19063.768936856), (<aiohttp.client_proto.ResponseHandler object at 0x1f54cb850>, 19063.772184069), (<aiohttp.client_proto.ResponseHandler object at 0x2144a4830>, 19063.772811214), (<aiohttp.client_proto.ResponseHandler object at 0x1ebf787c0>, 19063.773120111), (<aiohttp.client_proto.ResponseHandler object at 0x21fe75fd0>, 19063.773220476), (<aiohttp.client_proto.ResponseHandler object at 0x2144a7150>, 19063.776049099), (<aiohttp.client_proto.ResponseHandler object at 0x2144a6430>, 19063.780189289), (<aiohttp.client_proto.ResponseHandler object at 0x21fe743d0>, 19063.780778768), (<aiohttp.client_proto.ResponseHandler object at 0x1ebf79390>, 19063.783064226), (<aiohttp.client_proto.ResponseHandler object at 0x1f26c7a10>, 19063.786546669), (<aiohttp.client_proto.ResponseHandler object at 0x23c5e81a0>, 19063.787129937), (<aiohttp.client_proto.ResponseHandler object at 0x21314fe00>, 19063.787232518), (<aiohttp.client_proto.ResponseHandler object at 0x2144a6270>, 19063.788251222), (<aiohttp.client_proto.ResponseHandler object at 0x2144a60b0>, 19063.788360592), (<aiohttp.client_proto.ResponseHandler object at 0x1ebf78ec0>, 19063.790549731), (<aiohttp.client_proto.ResponseHandler object at 0x22852c1a0>, 19063.791319206), (<aiohttp.client_proto.ResponseHandler object at 0x1f54c8c90>, 19063.791886817), (<aiohttp.client_proto.ResponseHandler object at 0x2144a4ec0>, 19063.795316371), (<aiohttp.client_proto.ResponseHandler object at 0x1f54c8d70>, 19063.795718759), (<aiohttp.client_proto.ResponseHandler object at 0x223b44ad0>, 19063.79608647), (<aiohttp.client_proto.ResponseHandler object at 0x2224b9c50>, 19063.796202238), (<aiohttp.client_proto.ResponseHandler object at 0x23a75b310>, 19063.796305327), (<aiohttp.client_proto.ResponseHandler object at 0x226846ac0>, 19063.79979929), (<aiohttp.client_proto.ResponseHandler object at 0x2144a5710>, 19063.803449008), (<aiohttp.client_proto.ResponseHandler object at 0x1ebf792b0>, 19063.804238366), (<aiohttp.client_proto.ResponseHandler object at 0x2144a4910>, 19063.805396393), (<aiohttp.client_proto.ResponseHandler object at 0x2144a6c80>, 19063.805773156), (<aiohttp.client_proto.ResponseHandler object at 0x2144a4fa0>, 19063.808309083), (<aiohttp.client_proto.ResponseHandler object at 0x2144a5160>, 19063.80919127), (<aiohttp.client_proto.ResponseHandler object at 0x226845320>, 19063.811191391), (<aiohttp.client_proto.ResponseHandler object at 0x1f54c8de0>, 19063.81292877), (<aiohttp.client_proto.ResponseHandler object at 0x226847070>, 19063.815071423), (<aiohttp.client_proto.ResponseHandler object at 0x2144a4750>, 19063.81556743), (<aiohttp.client_proto.ResponseHandler object at 0x2144a4ad0>, 19063.820228683), (<aiohttp.client_proto.ResponseHandler object at 0x2144a6900>, 19063.821728415), (<aiohttp.client_proto.ResponseHandler object at 0x23a759860>, 19063.825725006), (<aiohttp.client_proto.ResponseHandler object at 0x2144a49f0>, 19063.829499362), (<aiohttp.client_proto.ResponseHandler object at 0x2144a6ba0>, 19063.83531984), (<aiohttp.client_proto.ResponseHandler object at 0x2144a5c50>, 19063.841143955), (<aiohttp.client_proto.ResponseHandler object at 0x22ead9fd0>, 19063.848877762), (<aiohttp.client_proto.ResponseHandler object at 0x21fe760b0>, 19063.855385508), (<aiohttp.client_proto.ResponseHandler object at 0x226847bd0>, 19063.862471273), (<aiohttp.client_proto.ResponseHandler object at 0x226847460>, 19063.865019058), (<aiohttp.client_proto.ResponseHandler object at 0x2144a7540>, 19063.87694603), (<aiohttp.client_proto.ResponseHandler object at 0x21fe76820>, 19063.882257181), (<aiohttp.client_proto.ResponseHandler object at 0x21fe756a0>, 19063.882894163), (<aiohttp.client_proto.ResponseHandler object at 0x2144a43d0>, 19063.887435128), (<aiohttp.client_proto.ResponseHandler object at 0x2144a4de0>, 19063.891311004), (<aiohttp.client_proto.ResponseHandler object at 0x223b44b40>, 19063.900077742), (<aiohttp.client_proto.ResponseHandler object at 0x2144a7310>, 19063.905399127), (<aiohttp.client_proto.ResponseHandler object at 0x226844050>, 19063.905890234), (<aiohttp.client_proto.ResponseHandler object at 0x2144a6d60>, 19063.931272914), (<aiohttp.client_proto.ResponseHandler object at 0x2144a7620>, 19063.931414194), (<aiohttp.client_proto.ResponseHandler object at 0x226847620>, 19063.951914838), (<aiohttp.client_proto.ResponseHandler object at 0x2268441a0>, 19063.973271472), (<aiohttp.client_proto.ResponseHandler object at 0x224fc2190>, 19063.982332293), (<aiohttp.client_proto.ResponseHandler object at 0x226844980>, 19063.996459231)]']\n",
      "connector: <aiohttp.connector.TCPConnector object at 0x202ef2050>\n"
     ]
    },
    {
     "name": "stdout",
     "output_type": "stream",
     "text": [
      "Getting links for 795 to 1435\n"
     ]
    },
    {
     "name": "stderr",
     "output_type": "stream",
     "text": [
      "Unclosed client session\n",
      "client_session: <aiohttp.client.ClientSession object at 0x21dac9950>\n",
      "Unclosed connector\n",
      "connections: ['[(<aiohttp.client_proto.ResponseHandler object at 0x1eea1d400>, 19067.821944557), (<aiohttp.client_proto.ResponseHandler object at 0x2144a6120>, 19067.830925248), (<aiohttp.client_proto.ResponseHandler object at 0x1e8f3b2a0>, 19067.832219652), (<aiohttp.client_proto.ResponseHandler object at 0x2144a6c10>, 19067.839466638), (<aiohttp.client_proto.ResponseHandler object at 0x2339b48a0>, 19067.86667287), (<aiohttp.client_proto.ResponseHandler object at 0x21fe74600>, 19067.869169403), (<aiohttp.client_proto.ResponseHandler object at 0x21a43c980>, 19067.880609789), (<aiohttp.client_proto.ResponseHandler object at 0x21a43e0b0>, 19067.882763363), (<aiohttp.client_proto.ResponseHandler object at 0x21a43dfd0>, 19067.888435435), (<aiohttp.client_proto.ResponseHandler object at 0x21a43dc50>, 19067.888722996), (<aiohttp.client_proto.ResponseHandler object at 0x21a43c280>, 19067.891460157), (<aiohttp.client_proto.ResponseHandler object at 0x2279ea040>, 19067.89482109), (<aiohttp.client_proto.ResponseHandler object at 0x1e8f397f0>, 19067.894894165), (<aiohttp.client_proto.ResponseHandler object at 0x21a43d550>, 19067.895471709), (<aiohttp.client_proto.ResponseHandler object at 0x2144a6270>, 19067.895594635), (<aiohttp.client_proto.ResponseHandler object at 0x21a43c590>, 19067.897394929), (<aiohttp.client_proto.ResponseHandler object at 0x21a43d470>, 19067.897930746), (<aiohttp.client_proto.ResponseHandler object at 0x2279ead60>, 19067.898954523), (<aiohttp.client_proto.ResponseHandler object at 0x21a43cd00>, 19067.900670417), (<aiohttp.client_proto.ResponseHandler object at 0x2144a4e50>, 19067.902073912), (<aiohttp.client_proto.ResponseHandler object at 0x1e8f3b1c0>, 19067.902310811), (<aiohttp.client_proto.ResponseHandler object at 0x21a43cc20>, 19067.902538643), (<aiohttp.client_proto.ResponseHandler object at 0x1ebf78ec0>, 19067.902788517), (<aiohttp.client_proto.ResponseHandler object at 0x2144a7150>, 19067.903959787), (<aiohttp.client_proto.ResponseHandler object at 0x2144a59b0>, 19067.905398522), (<aiohttp.client_proto.ResponseHandler object at 0x2144a5cc0>, 19067.905643638), (<aiohttp.client_proto.ResponseHandler object at 0x2144a5860>, 19067.905905797), (<aiohttp.client_proto.ResponseHandler object at 0x21a43e190>, 19067.90654265), (<aiohttp.client_proto.ResponseHandler object at 0x2224bbc40>, 19067.908661482), (<aiohttp.client_proto.ResponseHandler object at 0x2144a55c0>, 19067.909859128), (<aiohttp.client_proto.ResponseHandler object at 0x2144a4b40>, 19067.910089715), (<aiohttp.client_proto.ResponseHandler object at 0x2144a4910>, 19067.911259025), (<aiohttp.client_proto.ResponseHandler object at 0x2144a7310>, 19067.912208911), (<aiohttp.client_proto.ResponseHandler object at 0x226847ee0>, 19067.914697103), (<aiohttp.client_proto.ResponseHandler object at 0x21a43d0f0>, 19067.914967728), (<aiohttp.client_proto.ResponseHandler object at 0x2279e9470>, 19067.91522356), (<aiohttp.client_proto.ResponseHandler object at 0x226844a60>, 19067.916199126), (<aiohttp.client_proto.ResponseHandler object at 0x21a43df60>, 19067.916447907), (<aiohttp.client_proto.ResponseHandler object at 0x2144a49f0>, 19067.916696348), (<aiohttp.client_proto.ResponseHandler object at 0x21a43da20>, 19067.917104911), (<aiohttp.client_proto.ResponseHandler object at 0x21a43e580>, 19067.917598897), (<aiohttp.client_proto.ResponseHandler object at 0x21a43d860>, 19067.91780677), (<aiohttp.client_proto.ResponseHandler object at 0x226847310>, 19067.917984847), (<aiohttp.client_proto.ResponseHandler object at 0x2268469e0>, 19067.918214224), (<aiohttp.client_proto.ResponseHandler object at 0x226847c40>, 19067.919217158), (<aiohttp.client_proto.ResponseHandler object at 0x21fe76120>, 19067.920853931), (<aiohttp.client_proto.ResponseHandler object at 0x1ebf79400>, 19067.922444683), (<aiohttp.client_proto.ResponseHandler object at 0x2144a4f30>, 19067.92282256), (<aiohttp.client_proto.ResponseHandler object at 0x2144a6900>, 19067.922954746), (<aiohttp.client_proto.ResponseHandler object at 0x226845e80>, 19067.923149809), (<aiohttp.client_proto.ResponseHandler object at 0x2144a4830>, 19067.923218691), (<aiohttp.client_proto.ResponseHandler object at 0x2144a6cf0>, 19067.926978559), (<aiohttp.client_proto.ResponseHandler object at 0x21a43e5f0>, 19067.927232759), (<aiohttp.client_proto.ResponseHandler object at 0x223b47070>, 19067.927496728), (<aiohttp.client_proto.ResponseHandler object at 0x21a43d160>, 19067.92784318), (<aiohttp.client_proto.ResponseHandler object at 0x2144a64a0>, 19067.928994908), (<aiohttp.client_proto.ResponseHandler object at 0x2279eb230>, 19067.929301893), (<aiohttp.client_proto.ResponseHandler object at 0x2144a4750>, 19067.930044586), (<aiohttp.client_proto.ResponseHandler object at 0x21a43d400>, 19067.931255688), (<aiohttp.client_proto.ResponseHandler object at 0x2279e9390>, 19067.934787017), (<aiohttp.client_proto.ResponseHandler object at 0x21a43d6a0>, 19067.935497065), (<aiohttp.client_proto.ResponseHandler object at 0x2144a6350>, 19067.9381891), (<aiohttp.client_proto.ResponseHandler object at 0x2268472a0>, 19067.938609541), (<aiohttp.client_proto.ResponseHandler object at 0x21a43c210>, 19067.93868482), (<aiohttp.client_proto.ResponseHandler object at 0x2279e8de0>, 19067.939024581), (<aiohttp.client_proto.ResponseHandler object at 0x21a43c9f0>, 19067.939596576), (<aiohttp.client_proto.ResponseHandler object at 0x2279eb850>, 19067.941376009), (<aiohttp.client_proto.ResponseHandler object at 0x21fe756a0>, 19067.941892922), (<aiohttp.client_proto.ResponseHandler object at 0x223b44ad0>, 19067.942096888), (<aiohttp.client_proto.ResponseHandler object at 0x1e8f3ba10>, 19067.943781657), (<aiohttp.client_proto.ResponseHandler object at 0x21a43c130>, 19067.943915068), (<aiohttp.client_proto.ResponseHandler object at 0x21a43cb40>, 19067.944843772), (<aiohttp.client_proto.ResponseHandler object at 0x2144a4210>, 19067.945140511), (<aiohttp.client_proto.ResponseHandler object at 0x1ebf78f30>, 19067.945181149), (<aiohttp.client_proto.ResponseHandler object at 0x223b449f0>, 19067.946671884), (<aiohttp.client_proto.ResponseHandler object at 0x21a43e120>, 19067.946952705), (<aiohttp.client_proto.ResponseHandler object at 0x2144a6190>, 19067.947210867), (<aiohttp.client_proto.ResponseHandler object at 0x1eea1e660>, 19067.94728458), (<aiohttp.client_proto.ResponseHandler object at 0x2144a69e0>, 19067.94815114), (<aiohttp.client_proto.ResponseHandler object at 0x21a43ce50>, 19067.949297596), (<aiohttp.client_proto.ResponseHandler object at 0x1e8f3a890>, 19067.95109781), (<aiohttp.client_proto.ResponseHandler object at 0x2144a51d0>, 19067.95253426), (<aiohttp.client_proto.ResponseHandler object at 0x1eea1fa80>, 19067.957078756), (<aiohttp.client_proto.ResponseHandler object at 0x1ebf7b2a0>, 19067.957393214), (<aiohttp.client_proto.ResponseHandler object at 0x2144a7230>, 19067.957623113), (<aiohttp.client_proto.ResponseHandler object at 0x2144a5b00>, 19067.958847598), (<aiohttp.client_proto.ResponseHandler object at 0x1eea1e6d0>, 19067.961376816), (<aiohttp.client_proto.ResponseHandler object at 0x2279ebaf0>, 19067.961694143), (<aiohttp.client_proto.ResponseHandler object at 0x21a43cad0>, 19067.962110545), (<aiohttp.client_proto.ResponseHandler object at 0x2144a7690>, 19067.966603303), (<aiohttp.client_proto.ResponseHandler object at 0x2144a5010>, 19067.967170124), (<aiohttp.client_proto.ResponseHandler object at 0x21a43e510>, 19067.968237617), (<aiohttp.client_proto.ResponseHandler object at 0x21a43d7f0>, 19067.972207657), (<aiohttp.client_proto.ResponseHandler object at 0x21fe76040>, 19067.972772603), (<aiohttp.client_proto.ResponseHandler object at 0x224fc2190>, 19068.007066629), (<aiohttp.client_proto.ResponseHandler object at 0x2144a6820>, 19068.071794239), (<aiohttp.client_proto.ResponseHandler object at 0x2268449f0>, 19068.08694329), (<aiohttp.client_proto.ResponseHandler object at 0x2144a5710>, 19068.087375793), (<aiohttp.client_proto.ResponseHandler object at 0x2279e9da0>, 19068.092921698), (<aiohttp.client_proto.ResponseHandler object at 0x21a43c670>, 19068.129380673)]']\n",
      "connector: <aiohttp.connector.TCPConnector object at 0x23c89c590>\n"
     ]
    }
   ],
   "source": [
    "batchsize = 5\n",
    "new_net_articles = set(artlist)\n",
    "new_net_edges = set()\n",
    "n = 0\n",
    "while n < len(ordered_artlist):\n",
    "    print(f'Getting links for {n} to {n+batchsize}')\n",
    "    try:\n",
    "        arts = ordered_artlist[n:n+batchsize]\n",
    "        res = await wikitools.pipeline_get_links('en.wikipedia', my_agent,\n",
    "                                                titles=arts,\n",
    "                                                gl_args={'mode':['out', 'in'],\n",
    "                                                        'resolve_redirects':False})\n",
    "        res_articles = set([x['title'] for y in res['links']['in'].values() for x in y] +\n",
    "                [x['title'] for y in res['links']['out'].values() for x in y])\n",
    "        res_edges = set([(k, x['title']) for k, v in res['links']['out'].items() for x in v] +\n",
    "                    [(x['title'], k) for k, v in res['links']['in'].items() for x in v])\n",
    "        new_net_articles.update(res_articles)\n",
    "        new_net_edges.update(res_edges)\n",
    "        n += batchsize\n",
    "        batchsize = batchsize * 2\n",
    "    except ValueError as v: # handle rate error, this doesn't all run automatically, so need to address further issues\n",
    "        print('ValueError', v)\n",
    "        #split arts in half and try again\n",
    "        batchsize = batchsize // 2\n",
    "        time.sleep(10)\n",
    "    except ConnectionError as v: # handle rate error, this doesn't all run automatically, so need to address further issues\n",
    "        print('ValueError', v)\n",
    "        #split arts in half and try again\n",
    "        batchsize = batchsize // 2\n",
    "        time.sleep(10)\n",
    "\n",
    "    "
   ]
  },
  {
   "cell_type": "code",
   "execution_count": 137,
   "metadata": {},
   "outputs": [
    {
     "name": "stdout",
     "output_type": "stream",
     "text": [
      "2666259\n",
      "6180811\n"
     ]
    },
    {
     "data": {
      "text/html": [
       "<div>\n",
       "<style scoped>\n",
       "    .dataframe tbody tr th:only-of-type {\n",
       "        vertical-align: middle;\n",
       "    }\n",
       "\n",
       "    .dataframe tbody tr th {\n",
       "        vertical-align: top;\n",
       "    }\n",
       "\n",
       "    .dataframe thead th {\n",
       "        text-align: right;\n",
       "    }\n",
       "</style>\n",
       "<table border=\"1\" class=\"dataframe\">\n",
       "  <thead>\n",
       "    <tr style=\"text-align: right;\">\n",
       "      <th></th>\n",
       "      <th>source</th>\n",
       "      <th>target</th>\n",
       "    </tr>\n",
       "  </thead>\n",
       "  <tbody>\n",
       "    <tr>\n",
       "      <th>0</th>\n",
       "      <td>History of Ohio University</td>\n",
       "      <td>George Washington</td>\n",
       "    </tr>\n",
       "    <tr>\n",
       "      <th>1</th>\n",
       "      <td>Veeru Dada</td>\n",
       "      <td>India</td>\n",
       "    </tr>\n",
       "    <tr>\n",
       "      <th>2</th>\n",
       "      <td>Pedro Pascal</td>\n",
       "      <td>Buffy the Vampire Slayer</td>\n",
       "    </tr>\n",
       "    <tr>\n",
       "      <th>3</th>\n",
       "      <td>Arndtsche Kaffeeaufgußmaschine</td>\n",
       "      <td>English language</td>\n",
       "    </tr>\n",
       "    <tr>\n",
       "      <th>4</th>\n",
       "      <td>Tennis at the 2001 Summer Universiade</td>\n",
       "      <td>Germany</td>\n",
       "    </tr>\n",
       "    <tr>\n",
       "      <th>...</th>\n",
       "      <td>...</td>\n",
       "      <td>...</td>\n",
       "    </tr>\n",
       "    <tr>\n",
       "      <th>6180806</th>\n",
       "      <td>Takashi Amano</td>\n",
       "      <td>Japan</td>\n",
       "    </tr>\n",
       "    <tr>\n",
       "      <th>6180807</th>\n",
       "      <td>Taroko people</td>\n",
       "      <td>Taiwan</td>\n",
       "    </tr>\n",
       "    <tr>\n",
       "      <th>6180808</th>\n",
       "      <td>Clarisse Moh</td>\n",
       "      <td>France</td>\n",
       "    </tr>\n",
       "    <tr>\n",
       "      <th>6180809</th>\n",
       "      <td>Kiki Bertens</td>\n",
       "      <td>Coco Gauff</td>\n",
       "    </tr>\n",
       "    <tr>\n",
       "      <th>6180810</th>\n",
       "      <td>MV Hansa Stavanger</td>\n",
       "      <td>India</td>\n",
       "    </tr>\n",
       "  </tbody>\n",
       "</table>\n",
       "<p>6180811 rows × 2 columns</p>\n",
       "</div>"
      ],
      "text/plain": [
       "                                        source                    target\n",
       "0                   History of Ohio University         George Washington\n",
       "1                                   Veeru Dada                     India\n",
       "2                                 Pedro Pascal  Buffy the Vampire Slayer\n",
       "3               Arndtsche Kaffeeaufgußmaschine          English language\n",
       "4        Tennis at the 2001 Summer Universiade                   Germany\n",
       "...                                        ...                       ...\n",
       "6180806                          Takashi Amano                     Japan\n",
       "6180807                          Taroko people                    Taiwan\n",
       "6180808                           Clarisse Moh                    France\n",
       "6180809                           Kiki Bertens                Coco Gauff\n",
       "6180810                     MV Hansa Stavanger                     India\n",
       "\n",
       "[6180811 rows x 2 columns]"
      ]
     },
     "execution_count": 137,
     "metadata": {},
     "output_type": "execute_result"
    }
   ],
   "source": [
    "print(len(new_net_articles))\n",
    "print(len(new_net_edges))\n",
    "new_edges_series = pd.DataFrame(new_net_edges, columns=['source', 'target'])\n",
    "new_edges_series"
   ]
  }
 ],
 "metadata": {
  "kernelspec": {
   "display_name": ".venv",
   "language": "python",
   "name": "python3"
  },
  "language_info": {
   "codemirror_mode": {
    "name": "ipython",
    "version": 3
   },
   "file_extension": ".py",
   "mimetype": "text/x-python",
   "name": "python",
   "nbconvert_exporter": "python",
   "pygments_lexer": "ipython3",
   "version": "3.11.7"
  }
 },
 "nbformat": 4,
 "nbformat_minor": 2
}
