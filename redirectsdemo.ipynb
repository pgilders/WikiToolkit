{
 "cells": [
  {
   "cell_type": "markdown",
   "metadata": {},
   "source": [
    "# Redirects demo\n",
    "\n",
    "We demo the `PageMaps` object for fixing, collecting, and managing redirect data. This is used by other package functions for effective and efficient data collection. It has two key methods:\n",
    "1. `fix_redirects`: Fixes redirects for any incorrect / old article titles.\n",
    "2. `get_redirects`: Collects all redirects for given Wikipedia articles.\n",
    "\n",
    "And 6 key attributes:\n",
    "1. `titles_redirect_map` - A dictionary of redirects to their canonical title.\n",
    "2. `pageids_redirect_map` - A dictionary of redirect page IDs to their canonical page IDs.\n",
    "3. `norm_map` - A dictionary of non-normalised to normalised titles.\n",
    "4. `id_map` - A dictionary of titles to page IDs.\n",
    "5. `collected_title_redirects` - A dictionary of canonical titles to all their redirects.\n",
    "6. `collected_pageid_redirects` - A dictionary of canonical page IDs to all their redirect page IDs."
   ]
  },
  {
   "cell_type": "markdown",
   "metadata": {},
   "source": [
    "## Setup"
   ]
  },
  {
   "cell_type": "code",
   "execution_count": 1,
   "metadata": {},
   "outputs": [],
   "source": [
    "import mwapi\n",
    "import wikitools\n",
    "import pandas as pd\n",
    "\n",
    "my_agent = 'mwapi testing <p.gildersleve@lse.ac.uk>'\n",
    "async_session = mwapi.AsyncSession('https://en.wikipedia.org',\n",
    "                    formatversion=2, user_agent=my_agent)\n",
    "toparts = pd.read_csv('data/topviews-2024_07_31.csv')\n",
    "artlist = toparts['Page'].unique().tolist() # ~1000 top articles yesterday"
   ]
  },
  {
   "cell_type": "markdown",
   "metadata": {},
   "source": [
    "## `PageMaps`\n",
    "\n",
    "Wikipedia articles have a canonical title, but there are typically many \"redirect\" pages with different titles that point to the same article, e.g. \"US\" redirects to \"United States\". In different Wiki data sources, these redirects may or may not be resolved. The `PageMaps` object is used to manage this redirect data.\n",
    "\n",
    "It is recommended to use a single PageMaps object for a project, for consistent redirect and page ID resolution."
   ]
  },
  {
   "cell_type": "code",
   "execution_count": 2,
   "metadata": {},
   "outputs": [],
   "source": [
    "# Initialising a PageMaps object\n",
    "pagemaps = wikitools.PageMaps()"
   ]
  },
  {
   "cell_type": "markdown",
   "metadata": {},
   "source": [
    "### `fix_redirects`\n",
    "\n",
    "Fixes redirects for any incorrect / old article titles. Stores results in PageMaps object that it edits in place."
   ]
  },
  {
   "cell_type": "code",
   "execution_count": 3,
   "metadata": {},
   "outputs": [
    {
     "name": "stdout",
     "output_type": "stream",
     "text": [
      "Redirects: 3, Norms: 3, IDs: 6, Existing: 0\n"
     ]
    },
    {
     "data": {
      "text/plain": [
       "{'titles_redirect_map': {'Uk': 'United Kingdom',\n",
       "  'Joe biden': 'Joe Biden',\n",
       "  'Kamala harris': 'Kamala Harris'},\n",
       " 'pageids_redirect_map': {641291: 31717, 4725301: 145422, 60551360: 3120522},\n",
       " 'norm_map': {'joe biden': 'Joe biden',\n",
       "  'uk': 'Uk',\n",
       "  'kamala harris': 'Kamala harris'},\n",
       " 'id_map': {'United Kingdom': 31717,\n",
       "  'Joe Biden': 145422,\n",
       "  'Kamala Harris': 3120522,\n",
       "  'Uk': 641291,\n",
       "  'Joe biden': 4725301,\n",
       "  'Kamala harris': 60551360},\n",
       " 'collected_title_redirects': {},\n",
       " 'collected_pageid_redirects': {}}"
      ]
     },
     "execution_count": 3,
     "metadata": {},
     "output_type": "execute_result"
    }
   ],
   "source": [
    "rd_arts = [\"kamala harris\", \"joe biden\", \"uk\"] # random articles\n",
    "\n",
    "await pagemaps.fix_redirects(async_session, titles=rd_arts)\n",
    "print(pagemaps)\n",
    "pagemaps.return_maps()\n"
   ]
  },
  {
   "cell_type": "markdown",
   "metadata": {},
   "source": [
    "### `get_redirects`\n",
    "\n",
    "This collects all the redirect pages for given page titles. Again, this method edits the pagemaps object in place. If incorrect titles are supplied, it will attempt to fix redirects first. Stores results in PageMaps object that it edits in place."
   ]
  },
  {
   "cell_type": "code",
   "execution_count": 4,
   "metadata": {},
   "outputs": [
    {
     "name": "stdout",
     "output_type": "stream",
     "text": [
      "Redirects: 300, Norms: 3, IDs: 300, Existing: 3\n",
      "dict_keys(['United Kingdom', 'Joe Biden', 'Kamala Harris'])\n",
      "dict_keys([31717, 145422, 3120522])\n",
      "{'United Kingdom': ['United Kingdom', 'United Kindom', 'U.K.', 'ISO 3166-1:GB', 'U.K', 'United Kingom', 'Uk', 'Great Britain and Northern Ireland', 'The UK', 'UK', 'The United Kingdom', \"UK's\", 'United Kingdom of Great Britain and Northern Island', \"United Kingdom's\", 'UnitedKingdom', 'United kingdom of great britain and northern ireland', 'United Kingsom', 'British state', 'TUKOGBANI', 'United Kingdom of Great Britain and Northern Ireland', 'The United Kingdom of Great Britain and Northern Ireland', 'United Kingdom of Great Britain & Northern Ireland', 'United kingdom', 'United Kindgom', 'Great britain and northern ireland', 'UKGBNI', 'U.K.G.B.N.I.', 'The uk', 'Royaume-Uni', 'UKOGBANI', 'United Kingdom of Great Britain and Ulster', 'Great Britain and Ulster', 'Great Britain & Ulster', 'United Kingdom of Great Britain & Ulster', 'The United Kingdom of Great Britain & Ulster', 'United kingom', 'Reino Unido', 'Regno Unito', 'Untied Kingdom', 'UKoGBaNI', 'The U.K.', 'U-K', 'Vereinigtes Königreich', 'UK of GB & NI', 'UK of GB and NI', 'United Kingdom (UK)', 'Kingdom of Great Britain and Northern Ireland', 'Royaume Uni', 'U.k.', 'Uk.', 'User:Driscollowen/Owen', 'U K', 'Y Deyrnas Unedig', 'United Kingdom of Great Britain and North Ireland', 'Etymology of the United Kingdom', 'British State', 'UNITED KINGDOM', 'United Kingdon', 'U. K. G. B. N. I.', 'United Kingdom (U.K.)', 'United Kingdom of Britain', 'UKGBR', 'UKGB', 'British United Kingdom', 'Britain (sovereign state)', 'Britain (country)', 'Britain (state)', 'United-Kingdom', 'United Kingdom of England', 'United Kingdom (state)', 'UK (state)', 'United Kingdom (country)', 'UK (country)', 'User:Rêece Arnold/sandbox', 'The united kingdom', 'User:Fredrick Johnson 901/sandbox', 'Union between Great Britain and Northern Ireland', 'Great Britain & N.I.', 'Unitit Kinrick', 'U k', 'User:Sadgfasdg1232/sandbox', 'United Queendom'], 'Joe Biden': ['Joe Biden', 'Joseph Biden', 'Joseph Biden Jr.', 'Joseph Robinette Jr. Biden', 'Biden, Joseph R., Jr.', 'Joseph R. Biden', 'Joseph R. Biden, Jr.', 'Joseph R. Biden, Jr', 'Joe biden', 'Biden', 'Joesph Biden', 'Joseph Robinette Biden, Jr.', 'Joseph R. Biden Jr.', 'Joseph Robinette Biden', 'Joseph Robinette Biden Jr.', 'Joe Bidden', 'Jo Biden', 'Vice President Joe Biden', 'Vice President Biden', 'Joebiden', 'Joseph Robinette \"Joe\" Biden, Jr.', 'Joe Biden, Jr.', 'Joe R. Biden', 'Joe R. Biden, Jr.', 'Biden, Joe', 'Joel Biden', 'Draft Biden', 'Joe Bydin', 'Joe Bidin', 'Joesph R Biden, Jr.', '47th Vice President of the United States', 'Forty-seventh Vice President of the United States', 'VP Biden', 'Joseph Biden, Jr.', 'Joe Biden Jr.', 'Joe Byden', 'Vice Presidency of Joe Biden', 'Joe Biden Jr', 'Joe Biden, Jr', 'Joe Bidon', 'J. Biden', 'Vice presidency of Joe Biden', 'Joe R Biden', 'Joseph R Biden', 'Joseph R Biden Jr', 'JOE BIDEN', 'JoeBiden', 'Biden Jr.', 'Joseph Robinette \"Joe\" Biden Jr.', 'Joseph Robinette Biden Jr', 'Joseph Robinette \"Joe\" Biden, Jr', 'Joseph Robinette \"Joe\" Biden Jr', 'J Biden', 'President Biden', 'President Joe Biden', 'JRBJ', '46th President of the United States', '46th President of America', 'Pres. Biden', 'President Joseph Biden', 'POTUS 46', 'Joseph Robinette Biden Junior', 'Joseph Robinette Biden, Junior', 'BIDEN', 'President Joseph R. Biden', 'Biden Joe', 'US President Joe Biden', 'Forty-sixth President of the United States', 'Biden president', 'Joey Biden', 'Joseph biden', 'Biden (president)', '46th President of the United States of America', '46th President of the USA', '46th U.S. President', 'Forty-sixth President of the USA', 'Forty-sixth President of the United States of America', 'U.S. President Joe Biden', 'United States President Joe Biden', '46th US President', 'U.S. Pres. Joe Biden', 'US Pres. Joe Biden', 'U.S. President Biden', 'US President Biden', 'U.S. Pres. Biden', 'US Pres. Biden', 'Pres. Joe Biden', '46th POTUS', 'VP Joe Biden', 'VP Joseph Biden', 'Vice President Joseph Biden', '47th Vice President of the United States of America', '47th Vice President of the USA', 'Forty-seventh Vice President of the United States of America', 'Forty-seventh Vice President of the USA', 'Pres. Joseph Biden', 'US President Joseph Biden', 'U.S. President Joseph Biden', 'United States President Biden', 'United States President Joseph Biden', 'US Pres. Joseph Biden', 'U.S. Pres. Joseph Biden', 'President Joe', 'Joe bidne', 'Joe Biden II', 'J. R. Biden', 'Mr. Biden', 'President Joseph R Biden', 'POTUS Biden', 'President Joseph Robinette Biden Jr.', 'Joe Bidan', 'Middle Class Joe', 'Jose Biden', 'Joe Biden (president)', 'Joe Biden (politician)', 'President biden', 'Biden joe', '46th President of USA', '46th President of the US', 'POTUS46', '46th U.S.A. President', '46th USA President', 'Uncle Joe (U.S. President)', 'Joseph Robinette Biden, Jr', 'Joseph R. Biden II', '@JoeBiden', \"Jill Biden's husband\", 'Joe Robinette Biden', 'Joseph Robinette \"Joe\" Biden Junior', 'Joseph Robinette \"Joe\" Biden', 'Joe Biden Junior', 'Joe Boden', 'Joseph R. Biden Jr', 'Joseph Biden Jr', 'Joe Robinette Biden Jr', 'Joe Robinette Biden Jr.', 'Joseph Biden Junior', 'Joseph Biden, Junior', 'Joe Biden, Junior', 'Joe R. Biden, Junior', 'Joseph R. Biden, Junior', 'JR Biden', 'J.R. Biden', 'J. R. Biden Jr.'], 'Kamala Harris': ['Kamala Harris', 'Kamala D. Harris', 'Kamala Devi Harris', 'Kamela Harris', 'Kamala harris', 'Komala Harris', 'Harris, Kamala', 'Momala', 'Kampala Harris', 'Kammala Harris', 'Kemala Harris', 'Kamala Haris', 'Kimala Harris', 'Kamla Harris', 'Kamal Harris', 'Camala Harris', 'Kamala Harris Emhoff', 'Kamala Emhoff', 'Carmela Harris', 'Karmala Harris', 'Kamala D Harris', 'Kimela Harris', '贺锦丽', 'Vice President Harris', 'Vice President Kamala Harris', '49th Vice President of the United States', 'VP Harris', 'Forty-ninth Vice President of the United States', '49th Vice President of the USA', '49th Vice President of America', 'He Jinli', '賀錦麗', 'Vice Presidency of Kamala Harris', 'Kamalaharris', 'List of honors and awards received by Kamala Harris', 'United States Senate career of Kamala Harris', '49th Vice President of the United States of America', 'Forty-ninth Vice President of the United States of America', 'Forty-ninth Vice President of the USA', 'Forty-ninth Vice President of America', 'VP Kamala Harris', 'Kamila Harris', 'Kamilla Harris', 'Kamala Devi Harris Emhoff', 'Kamala Devi Emhoff', 'Kamala D. Harris Emhoff', 'Kamala D. Emhoff', 'Kamalah Harris', 'Kamalla Harris', 'Kamilah Harris', 'Kamala Iyer Harris', 'Camilla Harris', 'Momala Harris', 'Vice President Kamala', 'VP Kamala', 'Kamala H', 'K Harris', 'Vice President Kamala D Harris', 'Kamala Herris', 'Kamela Haris', 'Vice presidency of Kamala Harris', 'Harris Kamala', 'Kalama Harris', 'Camila Harris', 'Camille Harris', 'Camile Harris', 'Kamille Harris', 'Kamile Harris', 'Kamala I. Harris', 'Harris, Kamala Devi', 'Harris, Kamala D.', 'Comma la', 'Comma-la', 'Mamala Harris']}\n",
      "{31717: [31717, 31885, 125813, 223814, 372611, 564512, 641291, 694185, 851734, 1048927, 1200990, 1288423, 1350249, 1434879, 1514957, 1696528, 2413815, 4284723, 4489451, 6837214, 6837246, 7736131, 8711726, 9472633, 10639800, 10977590, 10977598, 12414249, 15457100, 16905929, 18020499, 18020505, 18020546, 18020563, 18020573, 20964318, 21093353, 21847655, 23219862, 23978299, 24724698, 25966616, 26177865, 27375553, 27375565, 27446040, 27696189, 29015078, 31114941, 31155955, 31675863, 31681680, 32529695, 32837972, 33173657, 33567998, 34128805, 34140859, 36830356, 38145018, 38147842, 38147847, 38219842, 42175428, 42175463, 42175465, 42175466, 42766978, 44017002, 47793340, 47793341, 47793345, 47793346, 52740074, 53863913, 56542258, 57963876, 61264376, 70108777, 71222453, 75464617, 76753205], 145422: [145422, 287582, 287583, 608138, 2366312, 2544006, 2580894, 2698667, 4725301, 12696578, 13492591, 17831618, 19000952, 19032274, 19032375, 19308824, 19526285, 20078909, 21077420, 24333084, 25489485, 27740380, 27740383, 27740385, 34328101, 42132214, 47419630, 50912047, 52775748, 52850892, 52976273, 53277265, 53277553, 55334321, 61105569, 63211223, 63758770, 64834178, 64834190, 64842780, 64866366, 64911569, 65003610, 65003613, 65003614, 65003615, 65003621, 65346567, 65559628, 65559658, 65559664, 65559666, 65619737, 65754498, 65754500, 65773112, 65779401, 65783096, 65783419, 65783474, 65783809, 65784749, 65784769, 65784926, 65784937, 65784940, 65996704, 65996875, 66193700, 66198573, 66299321, 66408270, 66446337, 66446338, 66446342, 66446348, 66446441, 66446448, 66446449, 66446457, 66447574, 66447578, 66447579, 66447581, 66447586, 66447588, 66447589, 66450302, 66458909, 66458912, 66458915, 66458920, 66458921, 66458924, 66458925, 66458934, 66458935, 66458938, 66458939, 66458941, 66458943, 66458945, 66501063, 66501556, 66554965, 66662989, 67140650, 67703153, 67703197, 67710732, 68480838, 68582758, 68634020, 69651317, 69651321, 69781214, 71365460, 71792371, 71792372, 71792373, 71792424, 71792425, 72934086, 73055399, 73151065, 73292780, 73298804, 74661326, 75216255, 75216266, 76904833, 77426749, 77427359, 77427361, 77427362, 77427364, 77427366, 77427369, 77427371, 77427374, 77427376, 77427377, 77427378, 77509474], 3120522: [3120522, 36874757, 49496710, 60130199, 60551360, 61770026, 63402551, 64781250, 64831054, 64831056, 64834633, 64834642, 64834644, 64837842, 64849519, 64856067, 64862868, 64862882, 64949053, 64950795, 65003717, 65237593, 65671326, 65754494, 65754497, 65782785, 65867306, 65979638, 65979650, 65979674, 66113824, 66113830, 66165984, 66310142, 66338034, 66430247, 66447490, 66447500, 66447502, 66447505, 66447662, 66468464, 66468466, 66495197, 66495198, 66495199, 66495200, 66498571, 66498578, 66498581, 66508463, 67510055, 67703113, 67703118, 67703121, 67703136, 67703139, 67703158, 68480832, 68480836, 74456037, 77406521, 77407824, 77413405, 77413407, 77413409, 77413411, 77413413, 77450056, 77555756, 77555757, 77555902, 77555903, 77701042]}\n"
     ]
    }
   ],
   "source": [
    "await pagemaps.get_redirects(async_session, rd_arts)\n",
    "print(pagemaps)\n",
    "print(pagemaps.collected_title_redirects.keys())\n",
    "print(pagemaps.collected_pageid_redirects.keys())\n",
    "print(pagemaps.collected_title_redirects)\n",
    "print(pagemaps.collected_pageid_redirects)"
   ]
  },
  {
   "cell_type": "code",
   "execution_count": 5,
   "metadata": {},
   "outputs": [
    {
     "name": "stdout",
     "output_type": "stream",
     "text": [
      "Redirects: 332, Norms: 3, IDs: 332, Existing: 6\n",
      "dict_keys(['United Kingdom', 'Joe Biden', 'Kamala Harris', 'Albert Einstein', 'Errol Morris', 'Daisy Edgar-Jones'])\n",
      "dict_keys([31717, 145422, 3120522, 736, 9332, 60815369])\n",
      "{'United Kingdom': ['United Kingdom', 'United Kindom', 'U.K.', 'ISO 3166-1:GB', 'U.K', 'United Kingom', 'Uk', 'Great Britain and Northern Ireland', 'The UK', 'UK', 'The United Kingdom', \"UK's\", 'United Kingdom of Great Britain and Northern Island', \"United Kingdom's\", 'UnitedKingdom', 'United kingdom of great britain and northern ireland', 'United Kingsom', 'British state', 'TUKOGBANI', 'United Kingdom of Great Britain and Northern Ireland', 'The United Kingdom of Great Britain and Northern Ireland', 'United Kingdom of Great Britain & Northern Ireland', 'United kingdom', 'United Kindgom', 'Great britain and northern ireland', 'UKGBNI', 'U.K.G.B.N.I.', 'The uk', 'Royaume-Uni', 'UKOGBANI', 'United Kingdom of Great Britain and Ulster', 'Great Britain and Ulster', 'Great Britain & Ulster', 'United Kingdom of Great Britain & Ulster', 'The United Kingdom of Great Britain & Ulster', 'United kingom', 'Reino Unido', 'Regno Unito', 'Untied Kingdom', 'UKoGBaNI', 'The U.K.', 'U-K', 'Vereinigtes Königreich', 'UK of GB & NI', 'UK of GB and NI', 'United Kingdom (UK)', 'Kingdom of Great Britain and Northern Ireland', 'Royaume Uni', 'U.k.', 'Uk.', 'User:Driscollowen/Owen', 'U K', 'Y Deyrnas Unedig', 'United Kingdom of Great Britain and North Ireland', 'Etymology of the United Kingdom', 'British State', 'UNITED KINGDOM', 'United Kingdon', 'U. K. G. B. N. I.', 'United Kingdom (U.K.)', 'United Kingdom of Britain', 'UKGBR', 'UKGB', 'British United Kingdom', 'Britain (sovereign state)', 'Britain (country)', 'Britain (state)', 'United-Kingdom', 'United Kingdom of England', 'United Kingdom (state)', 'UK (state)', 'United Kingdom (country)', 'UK (country)', 'User:Rêece Arnold/sandbox', 'The united kingdom', 'User:Fredrick Johnson 901/sandbox', 'Union between Great Britain and Northern Ireland', 'Great Britain & N.I.', 'Unitit Kinrick', 'U k', 'User:Sadgfasdg1232/sandbox', 'United Queendom'], 'Joe Biden': ['Joe Biden', 'Joseph Biden', 'Joseph Biden Jr.', 'Joseph Robinette Jr. Biden', 'Biden, Joseph R., Jr.', 'Joseph R. Biden', 'Joseph R. Biden, Jr.', 'Joseph R. Biden, Jr', 'Joe biden', 'Biden', 'Joesph Biden', 'Joseph Robinette Biden, Jr.', 'Joseph R. Biden Jr.', 'Joseph Robinette Biden', 'Joseph Robinette Biden Jr.', 'Joe Bidden', 'Jo Biden', 'Vice President Joe Biden', 'Vice President Biden', 'Joebiden', 'Joseph Robinette \"Joe\" Biden, Jr.', 'Joe Biden, Jr.', 'Joe R. Biden', 'Joe R. Biden, Jr.', 'Biden, Joe', 'Joel Biden', 'Draft Biden', 'Joe Bydin', 'Joe Bidin', 'Joesph R Biden, Jr.', '47th Vice President of the United States', 'Forty-seventh Vice President of the United States', 'VP Biden', 'Joseph Biden, Jr.', 'Joe Biden Jr.', 'Joe Byden', 'Vice Presidency of Joe Biden', 'Joe Biden Jr', 'Joe Biden, Jr', 'Joe Bidon', 'J. Biden', 'Vice presidency of Joe Biden', 'Joe R Biden', 'Joseph R Biden', 'Joseph R Biden Jr', 'JOE BIDEN', 'JoeBiden', 'Biden Jr.', 'Joseph Robinette \"Joe\" Biden Jr.', 'Joseph Robinette Biden Jr', 'Joseph Robinette \"Joe\" Biden, Jr', 'Joseph Robinette \"Joe\" Biden Jr', 'J Biden', 'President Biden', 'President Joe Biden', 'JRBJ', '46th President of the United States', '46th President of America', 'Pres. Biden', 'President Joseph Biden', 'POTUS 46', 'Joseph Robinette Biden Junior', 'Joseph Robinette Biden, Junior', 'BIDEN', 'President Joseph R. Biden', 'Biden Joe', 'US President Joe Biden', 'Forty-sixth President of the United States', 'Biden president', 'Joey Biden', 'Joseph biden', 'Biden (president)', '46th President of the United States of America', '46th President of the USA', '46th U.S. President', 'Forty-sixth President of the USA', 'Forty-sixth President of the United States of America', 'U.S. President Joe Biden', 'United States President Joe Biden', '46th US President', 'U.S. Pres. Joe Biden', 'US Pres. Joe Biden', 'U.S. President Biden', 'US President Biden', 'U.S. Pres. Biden', 'US Pres. Biden', 'Pres. Joe Biden', '46th POTUS', 'VP Joe Biden', 'VP Joseph Biden', 'Vice President Joseph Biden', '47th Vice President of the United States of America', '47th Vice President of the USA', 'Forty-seventh Vice President of the United States of America', 'Forty-seventh Vice President of the USA', 'Pres. Joseph Biden', 'US President Joseph Biden', 'U.S. President Joseph Biden', 'United States President Biden', 'United States President Joseph Biden', 'US Pres. Joseph Biden', 'U.S. Pres. Joseph Biden', 'President Joe', 'Joe bidne', 'Joe Biden II', 'J. R. Biden', 'Mr. Biden', 'President Joseph R Biden', 'POTUS Biden', 'President Joseph Robinette Biden Jr.', 'Joe Bidan', 'Middle Class Joe', 'Jose Biden', 'Joe Biden (president)', 'Joe Biden (politician)', 'President biden', 'Biden joe', '46th President of USA', '46th President of the US', 'POTUS46', '46th U.S.A. President', '46th USA President', 'Uncle Joe (U.S. President)', 'Joseph Robinette Biden, Jr', 'Joseph R. Biden II', '@JoeBiden', \"Jill Biden's husband\", 'Joe Robinette Biden', 'Joseph Robinette \"Joe\" Biden Junior', 'Joseph Robinette \"Joe\" Biden', 'Joe Biden Junior', 'Joe Boden', 'Joseph R. Biden Jr', 'Joseph Biden Jr', 'Joe Robinette Biden Jr', 'Joe Robinette Biden Jr.', 'Joseph Biden Junior', 'Joseph Biden, Junior', 'Joe Biden, Junior', 'Joe R. Biden, Junior', 'Joseph R. Biden, Junior', 'JR Biden', 'J.R. Biden', 'J. R. Biden Jr.'], 'Kamala Harris': ['Kamala Harris', 'Kamala D. Harris', 'Kamala Devi Harris', 'Kamela Harris', 'Kamala harris', 'Komala Harris', 'Harris, Kamala', 'Momala', 'Kampala Harris', 'Kammala Harris', 'Kemala Harris', 'Kamala Haris', 'Kimala Harris', 'Kamla Harris', 'Kamal Harris', 'Camala Harris', 'Kamala Harris Emhoff', 'Kamala Emhoff', 'Carmela Harris', 'Karmala Harris', 'Kamala D Harris', 'Kimela Harris', '贺锦丽', 'Vice President Harris', 'Vice President Kamala Harris', '49th Vice President of the United States', 'VP Harris', 'Forty-ninth Vice President of the United States', '49th Vice President of the USA', '49th Vice President of America', 'He Jinli', '賀錦麗', 'Vice Presidency of Kamala Harris', 'Kamalaharris', 'List of honors and awards received by Kamala Harris', 'United States Senate career of Kamala Harris', '49th Vice President of the United States of America', 'Forty-ninth Vice President of the United States of America', 'Forty-ninth Vice President of the USA', 'Forty-ninth Vice President of America', 'VP Kamala Harris', 'Kamila Harris', 'Kamilla Harris', 'Kamala Devi Harris Emhoff', 'Kamala Devi Emhoff', 'Kamala D. Harris Emhoff', 'Kamala D. Emhoff', 'Kamalah Harris', 'Kamalla Harris', 'Kamilah Harris', 'Kamala Iyer Harris', 'Camilla Harris', 'Momala Harris', 'Vice President Kamala', 'VP Kamala', 'Kamala H', 'K Harris', 'Vice President Kamala D Harris', 'Kamala Herris', 'Kamela Haris', 'Vice presidency of Kamala Harris', 'Harris Kamala', 'Kalama Harris', 'Camila Harris', 'Camille Harris', 'Camile Harris', 'Kamille Harris', 'Kamile Harris', 'Kamala I. Harris', 'Harris, Kamala Devi', 'Harris, Kamala D.', 'Comma la', 'Comma-la', 'Mamala Harris'], 'Albert Einstein': ['Albert Einstein', 'Einstein', 'Albert Eienstein', 'Albert Einstien', 'Albert einstein', 'Einstien', 'Einsteinian', 'Einsetein', 'Albert Enstein', \"Albert Einstein's\", 'Einstein, Albert', 'Albert Enstien', 'Alber Enstien', 'Albert Einstin', 'A. Einstein', 'Alber Einstein', 'Einstein (physicist)', 'Albrecht Einstein', 'Albert eintein', 'Chasing a light beam', 'I want to go when I want. It is tasteless to prolong life artificially. I have done my share, it is time to go. I will do it elegantly.', 'Dr. Albert Einstein', 'Dr Albert Einstein', 'Dr. Einstein', 'Dr Einstein'], 'Errol Morris': ['Errol Morris', 'Errol morris', 'Erol Morris', 'Erroll Morris', 'Errol Mark Morris'], 'Daisy Edgar-Jones': ['Daisy Edgar-Jones', 'Draft:Daisy Edgar-Jones']}\n",
      "{31717: [31717, 31885, 125813, 223814, 372611, 564512, 641291, 694185, 851734, 1048927, 1200990, 1288423, 1350249, 1434879, 1514957, 1696528, 2413815, 4284723, 4489451, 6837214, 6837246, 7736131, 8711726, 9472633, 10639800, 10977590, 10977598, 12414249, 15457100, 16905929, 18020499, 18020505, 18020546, 18020563, 18020573, 20964318, 21093353, 21847655, 23219862, 23978299, 24724698, 25966616, 26177865, 27375553, 27375565, 27446040, 27696189, 29015078, 31114941, 31155955, 31675863, 31681680, 32529695, 32837972, 33173657, 33567998, 34128805, 34140859, 36830356, 38145018, 38147842, 38147847, 38219842, 42175428, 42175463, 42175465, 42175466, 42766978, 44017002, 47793340, 47793341, 47793345, 47793346, 52740074, 53863913, 56542258, 57963876, 61264376, 70108777, 71222453, 75464617, 76753205], 145422: [145422, 287582, 287583, 608138, 2366312, 2544006, 2580894, 2698667, 4725301, 12696578, 13492591, 17831618, 19000952, 19032274, 19032375, 19308824, 19526285, 20078909, 21077420, 24333084, 25489485, 27740380, 27740383, 27740385, 34328101, 42132214, 47419630, 50912047, 52775748, 52850892, 52976273, 53277265, 53277553, 55334321, 61105569, 63211223, 63758770, 64834178, 64834190, 64842780, 64866366, 64911569, 65003610, 65003613, 65003614, 65003615, 65003621, 65346567, 65559628, 65559658, 65559664, 65559666, 65619737, 65754498, 65754500, 65773112, 65779401, 65783096, 65783419, 65783474, 65783809, 65784749, 65784769, 65784926, 65784937, 65784940, 65996704, 65996875, 66193700, 66198573, 66299321, 66408270, 66446337, 66446338, 66446342, 66446348, 66446441, 66446448, 66446449, 66446457, 66447574, 66447578, 66447579, 66447581, 66447586, 66447588, 66447589, 66450302, 66458909, 66458912, 66458915, 66458920, 66458921, 66458924, 66458925, 66458934, 66458935, 66458938, 66458939, 66458941, 66458943, 66458945, 66501063, 66501556, 66554965, 66662989, 67140650, 67703153, 67703197, 67710732, 68480838, 68582758, 68634020, 69651317, 69651321, 69781214, 71365460, 71792371, 71792372, 71792373, 71792424, 71792425, 72934086, 73055399, 73151065, 73292780, 73298804, 74661326, 75216255, 75216266, 76904833, 77426749, 77427359, 77427361, 77427362, 77427364, 77427366, 77427369, 77427371, 77427374, 77427376, 77427377, 77427378, 77509474], 3120522: [3120522, 36874757, 49496710, 60130199, 60551360, 61770026, 63402551, 64781250, 64831054, 64831056, 64834633, 64834642, 64834644, 64837842, 64849519, 64856067, 64862868, 64862882, 64949053, 64950795, 65003717, 65237593, 65671326, 65754494, 65754497, 65782785, 65867306, 65979638, 65979650, 65979674, 66113824, 66113830, 66165984, 66310142, 66338034, 66430247, 66447490, 66447500, 66447502, 66447505, 66447662, 66468464, 66468466, 66495197, 66495198, 66495199, 66495200, 66498571, 66498578, 66498581, 66508463, 67510055, 67703113, 67703118, 67703121, 67703136, 67703139, 67703158, 68480832, 68480836, 74456037, 77406521, 77407824, 77413405, 77413407, 77413409, 77413411, 77413413, 77450056, 77555756, 77555757, 77555902, 77555903, 77701042], 736: [736, 9292, 37549, 938345, 943957, 1665036, 1684641, 3097629, 7649459, 8878008, 11535690, 13879639, 13879666, 14010566, 17304450, 30970721, 34701113, 54716151, 55409099, 56578951, 68039085, 74891965, 74891967, 74891973, 74891974], 9332: [9332, 3845485, 17645522, 29127842, 64652756], 60815369: [60815369, 63062225]}\n"
     ]
    }
   ],
   "source": [
    "# also works with pageids\n",
    "ids = [736, 9332, 60815369] # random new page ids\n",
    "await pagemaps.get_redirects(async_session, pageids=ids)\n",
    "print(pagemaps)\n",
    "print(pagemaps.collected_title_redirects.keys())\n",
    "print(pagemaps.collected_pageid_redirects.keys())\n",
    "print(pagemaps.collected_title_redirects)\n",
    "print(pagemaps.collected_pageid_redirects)"
   ]
  }
 ],
 "metadata": {
  "kernelspec": {
   "display_name": ".venv",
   "language": "python",
   "name": "python3"
  },
  "language_info": {
   "codemirror_mode": {
    "name": "ipython",
    "version": 3
   },
   "file_extension": ".py",
   "mimetype": "text/x-python",
   "name": "python",
   "nbconvert_exporter": "python",
   "pygments_lexer": "ipython3",
   "version": "3.11.7"
  }
 },
 "nbformat": 4,
 "nbformat_minor": 2
}
